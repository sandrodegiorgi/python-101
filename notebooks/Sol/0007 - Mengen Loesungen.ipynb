{
 "cells": [
  {
   "cell_type": "markdown",
   "metadata": {},
   "source": [
    "# Lösungen: Mengen"
   ]
  },
  {
   "cell_type": "markdown",
   "metadata": {},
   "source": [
    "##### Aufgabe 1\n",
    "Gib folgende Mengen an:\n",
    "1. die Menge aller geraden Zahlen kleiner 100\n",
    "2. die Menge aller durch 3 teilbaren Zahlen kleiner 100\n",
    "3. die Menge aller Zahlen, die beide oben genannten Eigenschaften haben\n",
    "4. die Menge aller Zahlen, die mind. eine der oben genannten Eigenschaften haben\n",
    "5. die Menge aller Zahlen, die genau eine der oben genannten Eigenschaften haben"
   ]
  },
  {
   "cell_type": "code",
   "execution_count": 19,
   "metadata": {},
   "outputs": [],
   "source": [
    "# Lösung 1.1\n",
    "gerade = {x for x in range(100) if x % 2 == 0}"
   ]
  },
  {
   "cell_type": "code",
   "execution_count": 20,
   "metadata": {},
   "outputs": [],
   "source": [
    "# Lösung 1.2\n",
    "durch3teilbar = {x for x in range(100) if x % 3 == 0}"
   ]
  },
  {
   "cell_type": "code",
   "execution_count": null,
   "metadata": {},
   "outputs": [],
   "source": [
    "# Lösung 1.3\n",
    "gerade & durch3teilbar"
   ]
  },
  {
   "cell_type": "code",
   "execution_count": null,
   "metadata": {},
   "outputs": [],
   "source": [
    "# Lösung 1.4\n",
    "gerade | durch3teilbar"
   ]
  },
  {
   "cell_type": "code",
   "execution_count": null,
   "metadata": {},
   "outputs": [],
   "source": [
    "# Lösung 1.5\n",
    "print((gerade | durch3teilbar) - (gerade & durch3teilbar))\n",
    "print((gerade - durch3teilbar) | (durch3teilbar - gerade))\n",
    "# noch einfacher geht's so:\n",
    "print(gerade.symmetric_difference(durch3teilbar))"
   ]
  },
  {
   "cell_type": "markdown",
   "metadata": {},
   "source": [
    "##### Aufgabe 2\n",
    "Implementiere folgendes Würfelspiel für einen Spieler: Man darf so lange würfeln, bis sich zum ersten Mal eine Zahl wiederholt. Die gewürfelten Zahlen werden addiert und am Ende ausgegeben.  Beispielablauf:\n",
    "\n",
    "*6 <br> \n",
    "5  <br>\n",
    "2  <br>\n",
    "1  <br>\n",
    "4  <br>\n",
    "1  <br>\n",
    "Du hast zum zweiten Mal eine 1 gewürfelt. Deine Endsumme: 19*"
   ]
  },
  {
   "cell_type": "code",
   "execution_count": null,
   "metadata": {},
   "outputs": [],
   "source": [
    "from random import randint\n",
    "WUERFEL_MAX = 6   # so viele Seiten hat der Würfel\n",
    "\n",
    "# Lösung:\n",
    "summe = 0\n",
    "bekannt = set()\n",
    "while True:\n",
    "    zahl = randint(1, WUERFEL_MAX)\n",
    "    print(zahl)\n",
    "    summe += zahl\n",
    "    if zahl in bekannt:\n",
    "        break\n",
    "    else:\n",
    "        bekannt.add(zahl)\n",
    "print(f\"Du hast zum zweiten Mal eine {zahl} gewürfelt. Deine Endsumme: {summe}\")"
   ]
  },
  {
   "cell_type": "markdown",
   "metadata": {},
   "source": [
    "##### Aufgabe 3\n",
    "Auf einem leeren Schachbrett steht ein *Turm* auf dem Feld `pos`, z.B. \"C4\". Bestimme alle Felder, auf die der Turm ziehen kann."
   ]
  },
  {
   "cell_type": "code",
   "execution_count": null,
   "metadata": {},
   "outputs": [],
   "source": [
    "pos = \"C4\"\n",
    "\n",
    "# Lösung:\n",
    "bedrohte_spalte = set(pos[0]+zeile for zeile in \"12345678\")\n",
    "bedrohte_zeile = set(spalte+pos[1] for spalte in \"ABCDEFGH\")\n",
    "bedrohte_felder = bedrohte_spalte | bedrohte_zeile - {pos}\n",
    "print(bedrohte_felder)"
   ]
  },
  {
   "cell_type": "markdown",
   "metadata": {},
   "source": [
    "##### Aufgabe 4\n",
    "Auf einem ansonsten leeren Schachbrett stehen ein Turm und ein gegnerischer Bauer.\n",
    "\n",
    "1. Platziere die beiden Figuren zufällig auf dem Brett\n",
    "2. Prüfe, ob der Turm den Bauern schlagen kann."
   ]
  },
  {
   "cell_type": "code",
   "execution_count": null,
   "metadata": {},
   "outputs": [],
   "source": [
    "#Lösung:\n",
    "import random\n",
    "\n",
    "def turm_ziele(pos):    # s. vorige Aufgabe\n",
    "    bedrohte_spalte = set(pos[0]+zeile for zeile in \"12345678\")\n",
    "    bedrohte_zeile = set(spalte+pos[1] for spalte in \"ABCDEFGH\")\n",
    "    return bedrohte_spalte | bedrohte_zeile - {pos}\n",
    "\n",
    "brett = [spalte+zeile for spalte in \"ABCDEFGH\" for zeile in \"12345678\"]\n",
    "turm, bauer = random.sample(brett, 2)    # wählt zufällig zwei Elemente aus\n",
    "print(\"Der Turm steht auf\", turm)\n",
    "print(\"Der Bauer steht auf\", bauer)\n",
    "\n",
    "if bauer in turm_ziele(turm):\n",
    "    print(\"Der Turm kann den Bauern schlagen.\")\n",
    "else:\n",
    "    print(\"Der Turm kann den Bauern nicht schlagen.\")\n"
   ]
  }
 ],
 "metadata": {
  "kernelspec": {
   "display_name": "Python 3",
   "language": "python",
   "name": "python3"
  },
  "language_info": {
   "codemirror_mode": {
    "name": "ipython",
    "version": 3
   },
   "file_extension": ".py",
   "mimetype": "text/x-python",
   "name": "python",
   "nbconvert_exporter": "python",
   "pygments_lexer": "ipython3",
   "version": "3.7.6"
  }
 },
 "nbformat": 4,
 "nbformat_minor": 4
}
