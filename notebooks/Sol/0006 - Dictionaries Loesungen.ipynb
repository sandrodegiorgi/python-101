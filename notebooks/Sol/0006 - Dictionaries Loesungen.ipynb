{
 "cells": [
  {
   "cell_type": "markdown",
   "metadata": {},
   "source": [
    "# Lösungen: Dictionaries"
   ]
  },
  {
   "cell_type": "markdown",
   "metadata": {},
   "source": [
    "##### Aufgabe 1\n",
    "1. Erweitere das Telefonbuch um weitere Personen/Nummern.\n",
    "1. Finde die Telefonnummer einer Person im Telefonbuch heraus.\n",
    "1. Gib eine sinnvolle Meldung aus, wenn nach einer unbekannten Person gesucht wird."
   ]
  },
  {
   "cell_type": "code",
   "execution_count": null,
   "metadata": {},
   "outputs": [],
   "source": [
    "telefonbuch = {}\n",
    "telefonbuch[\"Tick\"] = \"12345\"\n",
    "telefonbuch[\"Trick\"] = \"23456\"\n",
    "\n",
    "# Lösung:\n",
    "telefonbuch[\"Track\"] = \"34567\"\n",
    "print(telefonbuch.get(\"Trick\", \"kenn ich nicht\"))\n",
    "print(telefonbuch.get(\"Truck\", \"kenn ich nicht\"))"
   ]
  },
  {
   "cell_type": "markdown",
   "metadata": {},
   "source": [
    "##### Aufgabe 2\n",
    "Finde mithilfe des gegebenen Dictionary `tochter_mutter` die Vorfahren mütterlicherseits einer Frau aus der Liste heraus. Beispielausgabe für \"Lilli\":\n",
    "\n",
    "*Lilli ist die Tochter von Anne.  \n",
    "Anne ist die Tochter von Ursula.  \n",
    "Ursula ist die Tochter von Lydia.  \n",
    "Die Mutter von Lydia\n",
    "ist nicht bekannt.*"
   ]
  },
  {
   "cell_type": "code",
   "execution_count": null,
   "metadata": {},
   "outputs": [],
   "source": [
    "tochter_mutter = dict(Nicole=\"Gabi\", Anne=\"Ursula\", Margret=\"Anneliese\", Matilda=\"Anne\", \n",
    "                      Lilli=\"Anne\", Cornelia=\"Margret\", Marlene=\"Nicole\", Ursula=\"Lydia\")\n",
    "gesucht = \"Lilli\"\n",
    "\n",
    "# Lösung:\n",
    "aktuell = gesucht\n",
    "while aktuell in tochter_mutter:\n",
    "    tochter = aktuell\n",
    "    aktuell = tochter_mutter[tochter]\n",
    "    print(f\"{tochter} ist die Tochter von {aktuell}.\")\n",
    "print(f\"Die Mutter von {aktuell} ist nicht bekannt.\")"
   ]
  },
  {
   "cell_type": "markdown",
   "metadata": {},
   "source": [
    "##### Aufgabe 3\n",
    "In den Aufgaben zu Listen hast du sämtliche Wörter von Goethes *Faust* in einer Liste gespeichert. Erweitere diese Lösung (s.u.) nun so, dass die Häufigkeiten für jedes Wort gezählt und in einem Dictionary `zaehler` gespeichert werden. Gib dann die zehn häufigsten Wörter aus.\n",
    "\n",
    "Zur Kontrolle hier die zu erwartende Ausgabe:\n",
    "\n",
    "[(507, 'und'),\n",
    " (474, 'Faust'),\n",
    " (465, 'die'),\n",
    " (461, 'ich'),\n",
    " (454, 'der'),\n",
    " (412, 'Und'),\n",
    " (395, 'nicht'),\n",
    " (368, 'zu'),\n",
    " (312, 'ist'),\n",
    " (296, 'ein')]"
   ]
  },
  {
   "cell_type": "code",
   "execution_count": null,
   "metadata": {},
   "outputs": [],
   "source": [
    "from urllib.request import urlopen\n",
    "import string\n",
    "\n",
    "URL = \"https://math-inf.uni-greifswald.de/storages/uni-greifswald/fakultaet/mnf/mathinf/hellmuth/Teaching/AlgorDatastrWS1819/Goethe--Faust.txt\"\n",
    "zeilen = [z.decode(\"UTF-8\") for z in urlopen(URL)]\n",
    "worte = [wort.strip(string.punctuation) for zeile in zeilen for wort in zeile.split()]\n",
    "\n",
    "# Lösung:\n",
    "zaehler = {}\n",
    "for wort in worte:\n",
    "    if wort in zaehler:\n",
    "        zaehler[wort] += 1\n",
    "    else:\n",
    "        zaehler[wort] = 1\n",
    "\n",
    "haeufigkeiten = [(zaehler[wort], wort) for wort in zaehler]   # Wichtig: Häufigkeit steht zuerst im Tupel\n",
    "haeufigkeiten.sort(reverse=True)   # Da Häufigkeit zuerst, wird nach dieser sortiert, und zwar absteigend\n",
    "print(haeufigkeiten[:10])   # die 10 häufigsten Wörter\n",
    "\n",
    "# Anmerkung: Es geht sogar noch einfacher, wenn man die Klassen defaultdict oder Counter aus \n",
    "# der Python-Standardbibliothek verwendet. \n",
    "from collections import Counter\n",
    "zaehler = Counter()\n",
    "for wort in worte:\n",
    "    zaehler[wort] += 1  # keine Fallunterscheidung für Initialisierung notwendig\n",
    "    \n",
    "print(\"Lösung mit Klasse Counter:\")\n",
    "print(zaehler.most_common(10))   # praktische Methode!\n",
    "\n",
    "#Zum Einlesen:\n",
    "# https://towardsdatascience.com/python-pro-tip-start-using-python-defaultdict-and-counter-in-place-of-dictionary-d1922513f747"
   ]
  },
  {
   "cell_type": "markdown",
   "metadata": {},
   "source": [
    "##### Aufgabe 4\n",
    "Ein dict kann man nicht einfach invertieren, da für verschiedene Schlüssel derselbe Wert gespeichert sein kann.\n",
    "\n",
    "1. Wie könnte man trotzdem aus `tochter_mutter` (s. vorige Aufgabe) trotzdem `mutter_toechter` machen?\n",
    "1. Zeige alle weiblichen Nachfahren von \"Ursula\" an."
   ]
  },
  {
   "cell_type": "code",
   "execution_count": null,
   "metadata": {},
   "outputs": [],
   "source": [
    "# Lösung Teil 1:\n",
    "mutter_toechter = {}\n",
    "for tochter in tochter_mutter:\n",
    "    mutter = tochter_mutter[tochter]\n",
    "    if mutter not in mutter_toechter:\n",
    "        mutter_toechter[mutter] = []\n",
    "    mutter_toechter[mutter].append(tochter)\n",
    "mutter_toechter"
   ]
  },
  {
   "cell_type": "code",
   "execution_count": null,
   "metadata": {},
   "outputs": [],
   "source": [
    "# Lösung Teil 2:\n",
    "def nachfahren(mutter):\n",
    "    ergebnis = []\n",
    "    if mutter in mutter_toechter:\n",
    "        for tochter in mutter_toechter[mutter]:\n",
    "            ergebnis = ergebnis + [tochter] + nachfahren(tochter)\n",
    "    return ergebnis        \n",
    "\n",
    "print(nachfahren(\"Emmi\"))"
   ]
  }
 ],
 "metadata": {
  "kernelspec": {
   "display_name": "Python 3",
   "language": "python",
   "name": "python3"
  },
  "language_info": {
   "codemirror_mode": {
    "name": "ipython",
    "version": 3
   },
   "file_extension": ".py",
   "mimetype": "text/x-python",
   "name": "python",
   "nbconvert_exporter": "python",
   "pygments_lexer": "ipython3",
   "version": "3.7.6"
  }
 },
 "nbformat": 4,
 "nbformat_minor": 4
}
