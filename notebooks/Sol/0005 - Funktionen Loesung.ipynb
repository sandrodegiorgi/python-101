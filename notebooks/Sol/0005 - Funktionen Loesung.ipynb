{
 "cells": [
  {
   "cell_type": "markdown",
   "metadata": {},
   "source": [
    "## Übungen zu Funktionen gleich mit Bezug zur KI\n",
    "In den Listen x und y wurde erfasst, wie der zeitliche Aufwand bei der Vorbereitung auf eine Klausur mit den dabei erzielten Punkten korreliert.  \n",
    "Dieser Zusammenhang lässt sich näherungsweise über eine Geradengleichung beschreiben."
   ]
  },
  {
   "cell_type": "code",
   "execution_count": 1,
   "metadata": {},
   "outputs": [
    {
     "data": {
      "image/png": "[encoded data removed]",
      "text/plain": [
       "<Figure size 432x288 with 1 Axes>"
      ]
     },
     "metadata": {
      "needs_background": "light"
     },
     "output_type": "display_data"
    }
   ],
   "source": [
    "x = [10,20,45,30,60]\n",
    "y = [25,60,88,50,92]\n",
    "\n",
    "import matplotlib.pyplot as plt\n",
    "xmin=0\n",
    "xmax=80\n",
    "ymin=-0\n",
    "ymax=120\n",
    "plt.axis([xmin, xmax, ymin, ymax])\n",
    "plt.scatter(x, y, color=\"red\")\n",
    "plt.xlabel(\"X-Werte (Aufwand)\")\n",
    "plt.ylabel(\"Y-Werte (erzielte Punkte)\")\n",
    "plt.grid(True)\n",
    "plt.show()"
   ]
  },
  {
   "cell_type": "markdown",
   "metadata": {},
   "source": [
    "#### Einfache Lineare Regression\n",
    "\n",
    "#### Formeln:\n",
    "\n",
    "  - $m = \\frac{\\sum_{i=1}^{n}(x_i-\\bar{x})(y_i-\\bar{y})}{\\sum_{i=1}^n(x_i-\\bar{x})^2}$ \n",
    "    \n",
    "  - $b = \\bar{y} - m \\cdot \\bar{x}$\n",
    "  \n",
    "  - $y = m \\cdot x + b$\n",
    "\n",
    "\n",
    "  - $mse =\\frac{1}{n} \\cdot \\sum_{i=1}^n(y_i-\\hat{y}_i)^2$\n",
    "\n",
    "  - $R^2 = 1 - \\frac{\\sum_{i=1}^n(y_i-\\hat{y}_i)^2}{\\sum_{i=1}^n(y_i-\\bar{y})^2}$\n",
    "\n",
    "#### Bedeutung:\n",
    "  - $m :=$ Steigung der Geraden\n",
    "  - $b :=$ y-Achsenabschnitt\n",
    "  - $mse :=$ Mean Squared Error \n",
    "  - $R^2 :=$ Bestimmtheitsmaß. Wie viel Streuung kann durch das Regressionsmodell erklärt werden\n",
    "\n",
    "  \n",
    "#### Symbole:\n",
    "  - $\\bar{x} :=$ Mittelwert von $x$\n",
    "  - $\\hat{y} :=$ Schätzung zum Wert x"
   ]
  },
  {
   "cell_type": "markdown",
   "metadata": {},
   "source": [
    "#### Einfache Lineare Regression Programmieren"
   ]
  },
  {
   "cell_type": "code",
   "execution_count": 2,
   "metadata": {},
   "outputs": [],
   "source": [
    "# Berechne den Mittelwert zur Liste x\n",
    "def compute_mean(x):\n",
    "#    sum = 0\n",
    "#    for xe in x:\n",
    "#        sum+=xe\n",
    "#    return sum / len(x)\n",
    "    return sum(x) / len(x)    "
   ]
  },
  {
   "cell_type": "code",
   "execution_count": 3,
   "metadata": {},
   "outputs": [],
   "source": [
    "# Berechne die Steigung der Geraden (Parameter m)\n",
    "def compute_slope(x, y, x_mean, y_mean):\n",
    "    frac1 = sum([(x[i] - x_mean)*(y[i] - y_mean) for i in range(len(x))])\n",
    "    frac2 = sum([(x[i] - x_mean)**2 for i in range(len(x))])\n",
    "    slope = frac1 / frac2\n",
    "    return slope"
   ]
  },
  {
   "cell_type": "code",
   "execution_count": 4,
   "metadata": {},
   "outputs": [],
   "source": [
    "# Berechne den Y-Achsabschnitt der Geraden (Parameter b)\n",
    "def compute_intercept(x_mean, y_mean, slope):\n",
    "    intercept = y_mean - slope * x_mean\n",
    "    return intercept"
   ]
  },
  {
   "cell_type": "code",
   "execution_count": 5,
   "metadata": {},
   "outputs": [],
   "source": [
    "# Berechne den Y-Wert passend zum X-Wert, wenn die Steigung und der Y-Achsabschnitt bekannt ist\n",
    "def compute_y(x_value, slope, intercept):\n",
    "    return x_value*slope + intercept"
   ]
  },
  {
   "cell_type": "code",
   "execution_count": 6,
   "metadata": {},
   "outputs": [],
   "source": [
    "# Berechne die y-Werte (Regressions-Linie) bei bekannter Steigung und Y-Achsabschnitt\n",
    "# für alle Elemente aus der Liste x\n",
    "# Rückgabewert ist eine Liste mit Funktions-Werten die zu allen x-Werten erwartet werden\n",
    "def compute_regression(x, slope, intercept):\n",
    "    regression_line = [slope * x[i] + intercept for i in range(len(x))]\n",
    "    return regression_line"
   ]
  },
  {
   "cell_type": "code",
   "execution_count": 7,
   "metadata": {},
   "outputs": [],
   "source": [
    "# berechne den Mean Squared Error mse\n",
    "# Mittlerer Abstand von realen zu erwarteten Werten\n",
    "# regression_line wird auch oft y_pred von Predicted bezeichnet\n",
    "def compute_mse(y,  regression_line):\n",
    "    frac1 = sum([(y[i] - regression_line[i])**2 for i in range(len(y))])\n",
    "    mse = frac1 / len(y)\n",
    "    return mse"
   ]
  },
  {
   "cell_type": "code",
   "execution_count": 8,
   "metadata": {},
   "outputs": [],
   "source": [
    "# berechne das Bestimmheitsmaß R^2\n",
    "def compute_r2(y, y_mean, regression_line):\n",
    "    frac1 = sum([(y[i] - regression_line[i])**2 for i in range(len(y))])\n",
    "    frac2 = sum([(y[i] - y_mean)**2 for i in range(len(y))])\n",
    "    r2 = 1 - frac1 / frac2\n",
    "    return r2\n",
    "\n",
    "# optimiert\n",
    "#    y_d=[y_mean for a in y]\n",
    "#    return 1-(compute_mse(y,regression_line)/compute_mse(y,y_d))"
   ]
  },
  {
   "cell_type": "markdown",
   "metadata": {},
   "source": [
    "##### Starting Training and Testing Functions"
   ]
  },
  {
   "cell_type": "code",
   "execution_count": 9,
   "metadata": {},
   "outputs": [
    {
     "name": "stdout",
     "output_type": "stream",
     "text": [
      "33.0\n",
      "63.0\n"
     ]
    }
   ],
   "source": [
    "# compute and print x_mean, y_mean\n",
    "x_mean = compute_mean(x)\n",
    "y_mean = compute_mean(y)\n",
    "print(x_mean)\n",
    "print(y_mean)"
   ]
  },
  {
   "cell_type": "code",
   "execution_count": 10,
   "metadata": {},
   "outputs": [
    {
     "name": "stdout",
     "output_type": "stream",
     "text": [
      "y=  1.2879746835443038 *x +  20.496835443037973\n"
     ]
    }
   ],
   "source": [
    "# compute and print slope, intercept\n",
    "slope = compute_slope(x,y,x_mean,y_mean)\n",
    "intercept = compute_intercept(x_mean,y_mean,slope)\n",
    "print(\"y= \",slope,\"*x + \",intercept)"
   ]
  },
  {
   "cell_type": "code",
   "execution_count": 11,
   "metadata": {},
   "outputs": [
    {
     "name": "stdout",
     "output_type": "stream",
     "text": [
      "84.89556962025316\n",
      "[84.89556962025316]\n",
      "[33.37658227848101, 46.25632911392405, 78.45569620253164, 59.13607594936709, 97.77531645569621]\n",
      "93.39430379746838\n",
      "0.8487786531776742\n"
     ]
    }
   ],
   "source": [
    "# compute y_value for x=50\n",
    "y_value = compute_y(50,slope,intercept)\n",
    "print(y_value)\n",
    "y_values = compute_regression([50],slope,intercept)\n",
    "print(y_values)\n",
    "# compute regression values for all x\n",
    "regression = compute_regression(x,slope,intercept)\n",
    "print(regression)\n",
    "# compute mse\n",
    "mse = compute_mse(y,regression)\n",
    "print(mse)\n",
    "# compute r2\n",
    "r2 = compute_r2(y,y_mean,regression)\n",
    "print(r2)"
   ]
  },
  {
   "cell_type": "markdown",
   "metadata": {},
   "source": [
    "#### Starting Plotting"
   ]
  },
  {
   "cell_type": "code",
   "execution_count": 17,
   "metadata": {},
   "outputs": [
    {
     "data": {
      "image/png": "[encoded data removed]",
      "text/plain": [
       "<Figure size 432x288 with 1 Axes>"
      ]
     },
     "metadata": {
      "needs_background": "light"
     },
     "output_type": "display_data"
    }
   ],
   "source": [
    "# plot regression line \n",
    "# scatter y-values an regression-values\n",
    "import matplotlib.pyplot as plt\n",
    "x1=0\n",
    "x2=80\n",
    "y1=slope*x1+intercept\n",
    "y2=slope*x2+intercept\n",
    "plt.plot([x1,x2],[y1,y2],color=\"blue\")\n",
    "plt.scatter(x,regression,color=\"green\")\n",
    "xmin=0\n",
    "xmax=80\n",
    "ymin=-0\n",
    "ymax=120\n",
    "plt.axis([xmin, xmax, ymin, ymax])\n",
    "plt.scatter(x, y, color=\"red\")\n",
    "plt.xlabel(\"X-Werte (Aufwand)\")\n",
    "plt.ylabel(\"Y-Werte (erzielte Punkte)\")\n",
    "plt.grid(True)\n",
    "plt.show()"
   ]
  },
  {
   "cell_type": "code",
   "execution_count": null,
   "metadata": {},
   "outputs": [],
   "source": []
  }
 ],
 "metadata": {
  "kernelspec": {
   "display_name": "Python 3",
   "language": "python",
   "name": "python3"
  },
  "language_info": {
   "codemirror_mode": {
    "name": "ipython",
    "version": 3
   },
   "file_extension": ".py",
   "mimetype": "text/x-python",
   "name": "python",
   "nbconvert_exporter": "python",
   "pygments_lexer": "ipython3",
   "version": "3.8.3"
  }
 },
 "nbformat": 4,
 "nbformat_minor": 4
}
