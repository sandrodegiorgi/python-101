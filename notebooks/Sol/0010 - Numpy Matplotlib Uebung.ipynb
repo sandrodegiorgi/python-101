{
 "cells": [
  {
   "cell_type": "markdown",
   "metadata": {},
   "source": [
    "#### Übungen\n",
    "\n",
    "Hier gibt es ein paar kleine Übungen zu Numpy und Matplotlib.\n",
    "\n",
    "##### Aufgabe 1:\n",
    "\n",
    "Lege einen zufälligen, ganzzahligen Datensatz als Numpy Array mit der Funktion: np.random.randint() an.\n",
    "\n",
    "##### Aufgabe 2:\n",
    "\n",
    "Stelle diese Daten in Matplotlib als Scatterplot dar, bei dem die y-Koordinaten die Werte des Arrays sind und die x-Koordinaten die Indizes der Listen-Werte sind.\n",
    "\n",
    "##### Aufgabe 3:\n",
    "\n",
    "Beschrifte die x- und y-Achse der Matplotlib Grafik nach Wahl (mit einem String/Text).\n",
    "\n",
    "##### Aufgabe 4: \n",
    "\n",
    "Berechne mit einer eigenen Funktion, oder mit einer Numpy Funktion, den Mittelwerte der Daten und zeichne diesen als rote Linie in der Grafik ein. \n",
    "\n",
    "##### Aufgabe 5:\n",
    "\n",
    "Berechne mit einer eigenen Funktion, oder mit einer Numpy Funktion, den Median der Daten und zeichne diesen als gelbe Linie in der Grafik ein. \n",
    "\n",
    "#### Viel Erfolg!"
   ]
  },
  {
   "cell_type": "code",
   "execution_count": 4,
   "metadata": {},
   "outputs": [],
   "source": [
    "import numpy as np\n",
    "import matplotlib.pyplot as plt\n",
    "#np.random.randint?"
   ]
  },
  {
   "cell_type": "code",
   "execution_count": 7,
   "metadata": {},
   "outputs": [
    {
     "data": {
      "image/png": "[encoded data removed]",
      "text/plain": [
       "<Figure size 432x288 with 1 Axes>"
      ]
     },
     "metadata": {
      "needs_background": "light"
     },
     "output_type": "display_data"
    }
   ],
   "source": [
    "# Aufgabe 1\n",
    "data = np.random.randint(0, 100, size=30)\n",
    "\n",
    "# Aufgabe 2\n",
    "plt.scatter(range(30), data, color=\"blue\")\n",
    "\n",
    "# Aufgabe 3\n",
    "plt.xlabel(\"x\")\n",
    "plt.ylabel(\"y\")\n",
    "\n",
    "# Aufgabe 4\n",
    "mean = np.mean(data)\n",
    "plt.plot((0, 30), (mean, mean), color=\"red\")\n",
    "\n",
    "# Aufgabe 5\n",
    "median = np.median(data)\n",
    "plt.plot((0, 30), (median, median), color=\"yellow\")\n",
    "\n",
    "plt.show()"
   ]
  },
  {
   "cell_type": "code",
   "execution_count": null,
   "metadata": {},
   "outputs": [],
   "source": []
  }
 ],
 "metadata": {
  "kernelspec": {
   "display_name": "Python 3",
   "language": "python",
   "name": "python3"
  },
  "language_info": {
   "codemirror_mode": {
    "name": "ipython",
    "version": 3
   },
   "file_extension": ".py",
   "mimetype": "text/x-python",
   "name": "python",
   "nbconvert_exporter": "python",
   "pygments_lexer": "ipython3",
   "version": "3.8.3"
  }
 },
 "nbformat": 4,
 "nbformat_minor": 4
}
