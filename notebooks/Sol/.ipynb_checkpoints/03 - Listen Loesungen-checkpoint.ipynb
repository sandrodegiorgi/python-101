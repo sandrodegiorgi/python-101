{
 "cells": [
  {
   "cell_type": "markdown",
   "metadata": {},
   "source": [
    "# Lösungen: Listen, Tupel, List Comprehensions"
   ]
  },
  {
   "cell_type": "markdown",
   "metadata": {},
   "source": [
    "### Listen"
   ]
  },
  {
   "cell_type": "markdown",
   "metadata": {},
   "source": [
    "##### Aufgabe 1\n",
    "Gib für die folgende Liste jeweils aus:\n",
    "1. das 7. Element\n",
    "1. die Elemente an Position 0 bis 2 (d.h. drei Elemente)\n",
    "1. das vorletzte Element\n",
    "1. jedes zweite Element\n",
    "1. das Element in der Mitte der Liste"
   ]
  },
  {
   "cell_type": "code",
   "execution_count": 1,
   "metadata": {},
   "outputs": [
    {
     "name": "stdout",
     "output_type": "stream",
     "text": [
      "Gabi\n",
      "['Anna', 'Berta', 'Carla']\n",
      "Hannah\n",
      "['Anna', 'Carla', 'Emilia', 'Gabi', 'Iris']\n",
      "Emilia\n"
     ]
    }
   ],
   "source": [
    "liste = [\"Anna\", \"Berta\", \"Carla\", \"Doris\", \"Emilia\", \"Franziska\", \"Gabi\", \"Hannah\", \"Iris\"]\n",
    "\n",
    "# Lösung:\n",
    "print(liste[6])     # Start bei 0\n",
    "print(liste[0:3])   # letzter Index gehört nicht mehr dazu\n",
    "print(liste[-2])    # vorletztes Element\n",
    "print(liste[::2])   # Schrittweite 2\n",
    "mitte = len(liste) // 2\n",
    "print(liste[mitte])"
   ]
  },
  {
   "cell_type": "markdown",
   "metadata": {},
   "source": [
    "##### Aufgabe 2 \n",
    "Berechne für die folgende Liste:\n",
    "1. das größte Element\n",
    "1. den Durchschnitt\n",
    "1. den Median"
   ]
  },
  {
   "cell_type": "code",
   "execution_count": 2,
   "metadata": {},
   "outputs": [
    {
     "name": "stdout",
     "output_type": "stream",
     "text": [
      "Größtes Listenelement: 99\n",
      "Durchschnitt: 12.041373247863246\n",
      "Median: 3.14159\n"
     ]
    }
   ],
   "source": [
    "zahlen = [2, 3.14159, -12, 99, 42/13, 0.0, 10, -1, 4]\n",
    "\n",
    "# Lösung:\n",
    "groesstes = -1000\n",
    "summe = 0\n",
    "\n",
    "for zahl in zahlen:\n",
    "    summe += zahl\n",
    "    if zahl > groesstes:\n",
    "        groesstes = zahl\n",
    "\n",
    "print(\"Größtes Listenelement:\", groesstes)\n",
    "print(\"Durchschnitt:\", summe / len(zahlen))\n",
    "        \n",
    "sortiert = sorted(zahlen)   # sorted(): lässt ursprüngliche Liste unverändert\n",
    "mitte = len(sortiert) // 2\n",
    "print(\"Median:\", sortiert[mitte])"
   ]
  },
  {
   "cell_type": "markdown",
   "metadata": {},
   "source": [
    "##### Aufgabe 3\n",
    "Erzeuge aus der gegebenen Liste jeweils eine neue:\n",
    "1. die Quadrate der gegebenen Zahlen\n",
    "1. nur Zahlen zwischen 30 und 50\n",
    "1. nur ungerade Zahlen"
   ]
  },
  {
   "cell_type": "code",
   "execution_count": 3,
   "metadata": {},
   "outputs": [
    {
     "name": "stdout",
     "output_type": "stream",
     "text": [
      "[169, 2209, 16, 144, 529, 289, 6889, 2025, 2704, 3969, 1369, 8836, 2401, 64, 121, 961, 1936, 5184, 2209]\n",
      "[47, 45, 37, 49, 31, 44, 47]\n",
      "[13, 47, 23, 17, 83, 45, 63, 37, 49, 11, 31, 47]\n"
     ]
    }
   ],
   "source": [
    "zahlen = [13, 47, 4, 12, 23, 17, 83, 45, 52, 63, 37, 94, 49, 8, 11, 31, 44, 72, 47]\n",
    "\n",
    "# Lösung:\n",
    "quadrate, zwischen30und50, ungerade = [], [], []\n",
    "for zahl in zahlen:\n",
    "    quadrate.append(zahl * zahl)\n",
    "    if 30 < zahl < 50:\n",
    "        zwischen30und50.append(zahl)\n",
    "    if zahl % 2 == 1:\n",
    "        ungerade.append(zahl)\n",
    "        \n",
    "print(quadrate)\n",
    "print(zwischen30und50)\n",
    "print(ungerade)"
   ]
  },
  {
   "cell_type": "markdown",
   "metadata": {},
   "source": [
    "##### Aufgabe 4\n",
    "Prüfe für jede der Listen aus `listen`, ob sie ein *Palindrom* ist, d.h. von vorne wie von hinten gleich ist.\n",
    "\n",
    "Übrigens: Viele Listenoperationen funktionieren auch mit String (s. letztes Element von `listen`)!"
   ]
  },
  {
   "cell_type": "code",
   "execution_count": 4,
   "metadata": {},
   "outputs": [
    {
     "name": "stdout",
     "output_type": "stream",
     "text": [
      "[1, 2, 3, 2, 1] ist ein Palindrom.\n",
      "[1, 2, 3, 1] ist kein Palindrom.\n",
      "['ich', 'bin', 'ich'] ist ein Palindrom.\n",
      "LAGERREGAL ist ein Palindrom.\n"
     ]
    }
   ],
   "source": [
    "listen = [[1, 2, 3, 2, 1], [1, 2, 3, 1], [\"ich\", \"bin\", \"ich\"], \"LAGERREGAL\"]\n",
    "\n",
    "# Lösung:\n",
    "for liste in listen:\n",
    "    ergebnis = \"ein\" if liste[::-1] == liste else \"kein\"\n",
    "    print(f\"{liste} ist {ergebnis} Palindrom.\")"
   ]
  },
  {
   "cell_type": "markdown",
   "metadata": {},
   "source": [
    "### List Comprehensions"
   ]
  },
  {
   "cell_type": "markdown",
   "metadata": {},
   "source": [
    "##### Aufgabe 1\n",
    "Erzeuge (s.o.) aus der gegebenen Liste *mithilfe einer list comprehension* jeweils eine neue:\n",
    "1. die Quadrate der gegebenen Zahlen\n",
    "1. nur Zahlen zwischen 30 und 50\n",
    "1. nur ungerade Zahlen\n",
    "\n",
    "Vergleiche mit der ursprünglichen schleifenbasierten Lösung."
   ]
  },
  {
   "cell_type": "code",
   "execution_count": 5,
   "metadata": {},
   "outputs": [],
   "source": [
    "zahlen = [13, 47, 4, 12, 23, 17, 83, 45, 52, 63, 37, 94, 49, 8, 11, 31, 44, 72, 47]\n",
    "\n",
    "# Lösung:\n",
    "quadrate = [zahl * zahl for zahl in zahlen]\n",
    "zwischen30und50 = [zahl for zahl in zahlen if 30 < zahl < 50]\n",
    "ungerade = [zahl for zahl in zahlen if zahl % 2 == 1]"
   ]
  },
  {
   "cell_type": "markdown",
   "metadata": {},
   "source": [
    "##### Aufgabe 2\n",
    "Erzeuge eine Liste mit denjenigen Namen aus der Liste `gallier`, die mit 'x' enden, und zwar in korrekter Schreibweise, d.h. der Anfangsbuchstabe des jeweiligen Namens wird groß, die restlichen Buchstaben kleingeschrieben."
   ]
  },
  {
   "cell_type": "code",
   "execution_count": 6,
   "metadata": {},
   "outputs": [
    {
     "data": {
      "text/plain": [
       "['Asterix', 'Obelix', 'Miraculix', 'Troubadix']"
      ]
     },
     "execution_count": 6,
     "metadata": {},
     "output_type": "execute_result"
    }
   ],
   "source": [
    "gallier = [\"asterix\", \"OBELIX\", \"Miraculix\", \"CaEsaR\", \"TROUBADIX\", \"Gutemine\"]\n",
    "\n",
    "# Lösung:\n",
    "[name.title() for name in gallier if name.lower().endswith('x')]"
   ]
  },
  {
   "cell_type": "markdown",
   "metadata": {},
   "source": [
    "##### Aufgabe 3\n",
    "Erzeuge aus einer Liste mit Namen der Form \"Vorname Nachname\" eine Liste der Form \"Nachname, Vorname\". Bsp.:\n",
    "\n",
    "`[\"Harry Potter\", \"Albus Dumbledore\", \"Severus Snape\"]` wird zu  \n",
    "\n",
    "`['Potter, Harry', 'Dumbledore, Albus', 'Snape, Severus']`"
   ]
  },
  {
   "cell_type": "code",
   "execution_count": 12,
   "metadata": {},
   "outputs": [
    {
     "data": {
      "text/plain": [
       "['Potter, Harry', 'Dumbledore, Albus', 'Snape, Severus']"
      ]
     },
     "execution_count": 12,
     "metadata": {},
     "output_type": "execute_result"
    }
   ],
   "source": [
    "namen = [\"Harry Potter\", \"Albus Dumbledore\", \"Severus Snape\"]\n",
    "\n",
    "# Lösung:\n",
    "aufgeteilt = [name.split() for name in namen]\n",
    "tupel = [f\"{name[1]}, {name[0]}\" for name in aufgeteilt]\n",
    "\n",
    "tupel"
   ]
  },
  {
   "cell_type": "markdown",
   "metadata": {},
   "source": [
    "##### Aufgabe 4\n",
    "Erzeuge eine Liste mit den Zahlen des kleinen 5x5, also\n",
    "\n",
    "[1,\n",
    " 2,\n",
    " 3,\n",
    " 4,\n",
    " 5,\n",
    " 2,\n",
    " 4,\n",
    " 6,\n",
    " 8,\n",
    " 10,\n",
    " 3,\n",
    " 6,\n",
    " 9,\n",
    " 12,\n",
    " 15,\n",
    " 4,\n",
    " 8,\n",
    " 12,\n",
    " 16,\n",
    " 20,\n",
    " 5,\n",
    " 10,\n",
    " 15,\n",
    " 20,\n",
    " 25]"
   ]
  },
  {
   "cell_type": "code",
   "execution_count": 8,
   "metadata": {},
   "outputs": [
    {
     "data": {
      "text/plain": [
       "[1,\n",
       " 2,\n",
       " 3,\n",
       " 4,\n",
       " 5,\n",
       " 2,\n",
       " 4,\n",
       " 6,\n",
       " 8,\n",
       " 10,\n",
       " 3,\n",
       " 6,\n",
       " 9,\n",
       " 12,\n",
       " 15,\n",
       " 4,\n",
       " 8,\n",
       " 12,\n",
       " 16,\n",
       " 20,\n",
       " 5,\n",
       " 10,\n",
       " 15,\n",
       " 20,\n",
       " 25]"
      ]
     },
     "execution_count": 8,
     "metadata": {},
     "output_type": "execute_result"
    }
   ],
   "source": [
    "# Lösung:\n",
    "[a*b for a in range(1, 6) for b in range(1, 6)]"
   ]
  },
  {
   "cell_type": "markdown",
   "metadata": {},
   "source": [
    "##### Aufgabe 5\n",
    "Erzeuge noch einmal das 5x5, aber diesmal als Tabelle (verschachtelte Liste), also\n",
    "\n",
    "[[1, 2, 3, 4, 5],  \n",
    " [2, 4, 6, 8, 10],  \n",
    " [3, 6, 9, 12, 15],  \n",
    " [4, 8, 12, 16, 20],  \n",
    " [5, 10, 15, 20, 25]]"
   ]
  },
  {
   "cell_type": "code",
   "execution_count": 9,
   "metadata": {},
   "outputs": [
    {
     "data": {
      "text/plain": [
       "[[1, 2, 3, 4, 5],\n",
       " [2, 4, 6, 8, 10],\n",
       " [3, 6, 9, 12, 15],\n",
       " [4, 8, 12, 16, 20],\n",
       " [5, 10, 15, 20, 25]]"
      ]
     },
     "execution_count": 9,
     "metadata": {},
     "output_type": "execute_result"
    }
   ],
   "source": [
    "# Lösung:\n",
    "[[a*b for a in range(1, 6)] for b in range (1,6)]"
   ]
  },
  {
   "cell_type": "markdown",
   "metadata": {},
   "source": [
    "##### Aufgabe 6\n",
    "Finde mit einer List Comprehension alle Worte in folgendem Text.\n",
    "\n",
    "<details><summary>Hier klicken für Tipps:</summary>\n",
    "Benutze die String-Methoden split() und strip(). Die Konstante string.punctuation (googlen!) könnte auch hilfreich sein...\n",
    "</details>"
   ]
  },
  {
   "cell_type": "code",
   "execution_count": 10,
   "metadata": {},
   "outputs": [
    {
     "name": "stdout",
     "output_type": "stream",
     "text": [
      "['Habe', 'nun', 'ach', 'Philosophie', 'Juristerei', 'und', 'Medizin', 'Und', 'leider', 'auch', 'Theologie', 'Durchaus', 'studiert', 'mit', 'heißem', 'Bemühn', 'Da', 'steh', 'ich', 'nun', 'ich', 'armer', 'Tor', 'Und', 'bin', 'so', 'klug', 'als', 'wie', 'zuvor', 'Heiße', 'Magister', 'heiße', 'Doktor', 'gar', 'Und', 'ziehe', 'schon', 'an', 'die', 'zehen', 'Jahr', 'Herauf', 'herab', 'und', 'quer', 'und', 'krumm', 'Meine', 'Schüler', 'an', 'der', 'Nase', 'herum']\n"
     ]
    }
   ],
   "source": [
    "TEXT = \"\"\"\n",
    "Habe nun, ach! Philosophie,\n",
    "Juristerei und Medizin,\n",
    "Und leider auch Theologie\n",
    "Durchaus studiert, mit heißem Bemühn.\n",
    "Da steh' ich nun, ich armer Tor,\n",
    "Und bin so klug als wie zuvor!\n",
    "Heiße Magister, heiße Doktor gar,\n",
    "Und ziehe schon an die zehen Jahr'\n",
    "Herauf, herab und quer und krumm\n",
    "Meine Schüler an der Nase herum.\n",
    "\"\"\"\n",
    "\n",
    "\n",
    "# Lösung:\n",
    "import string\n",
    "worte = [wort.strip(string.punctuation) for wort in TEXT.split()]\n",
    "print(worte)"
   ]
  },
  {
   "cell_type": "markdown",
   "metadata": {},
   "source": [
    "##### Aufgabe 7\n",
    "Den gesamten Text von Goethes *Faust* findest du als Textdatei im Internet (s. untenstehende URL). Schreibe ein Programm, das den Text lädt (mit der Funktion `urlopen()`) und daraus eine Liste einzelner Wörter erzeugt (wie in der vorigen Aufgabe).\n",
    "\n",
    "Zur Kontrolle: Die Liste sollte 31161 Worte enthalten und wie folgt beginnen:\n",
    "\n",
    "['Goethe', 'Faust', 'Johann', 'Wolfgang', 'von', 'Goethe', 'Faust', 'Eine', 'Tragödie', 'Erster', 'Theil', 'Einleitende', 'Angaben', 'Zueignung', 'Ihr', 'naht', 'euch', 'wieder', 'schwankende', 'Gestalten', ...]\n",
    "\n",
    "<details><summary>Hier klicken für Tipps:</summary>\n",
    "Auf der genannten URL ist der Faust-Text in UTF-8 kodiert. Um eine Zeile z im UTF-8 Format in einen Python-String umzuwandeln, kann man folgenden Befehl verwenden: z.decode(\"UTF-8\")\n",
    "</details>"
   ]
  },
  {
   "cell_type": "code",
   "execution_count": 11,
   "metadata": {},
   "outputs": [
    {
     "name": "stdout",
     "output_type": "stream",
     "text": [
      "Der 'Faust' enthält 31161 Wörter und beginnt so:\n",
      "['Goethe', 'Faust', 'Johann', 'Wolfgang', 'von', 'Goethe', 'Faust', 'Eine', 'Tragödie', 'Erster', 'Theil', 'Einleitende', 'Angaben', 'Zueignung', 'Ihr', 'naht', 'euch', 'wieder', 'schwankende', 'Gestalten']\n"
     ]
    }
   ],
   "source": [
    "from urllib.request import urlopen\n",
    "import string\n",
    "\n",
    "URL = \"https://math-inf.uni-greifswald.de/storages/uni-greifswald/fakultaet/mnf/mathinf/hellmuth/Teaching/AlgorDatastrWS1819/Goethe--Faust.txt\"\n",
    "\n",
    "# Lösung: \n",
    "zeilen = [z.decode(\"UTF-8\") for z in urlopen(URL)]\n",
    "worte = [wort.strip(string.punctuation) for zeile in zeilen for wort in zeile.split()]\n",
    "\n",
    "print(\"Der 'Faust' enthält\", len(worte), \"Wörter und beginnt so:\")\n",
    "print(worte[:20])\n"
   ]
  },
  {
   "cell_type": "code",
   "execution_count": null,
   "metadata": {},
   "outputs": [],
   "source": []
  }
 ],
 "metadata": {
  "kernelspec": {
   "display_name": "Python 3",
   "language": "python",
   "name": "python3"
  },
  "language_info": {
   "codemirror_mode": {
    "name": "ipython",
    "version": 3
   },
   "file_extension": ".py",
   "mimetype": "text/x-python",
   "name": "python",
   "nbconvert_exporter": "python",
   "pygments_lexer": "ipython3",
   "version": "3.8.3"
  }
 },
 "nbformat": 4,
 "nbformat_minor": 4
}
