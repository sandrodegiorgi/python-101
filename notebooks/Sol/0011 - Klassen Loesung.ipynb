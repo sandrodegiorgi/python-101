{
 "cells": [
  {
   "cell_type": "markdown",
   "metadata": {},
   "source": [
    "### Übung zu Klassen und Objekte\n",
    "Ergänzen und Testen Sie die Klasse ListStatistik."
   ]
  },
  {
   "cell_type": "code",
   "execution_count": 1,
   "metadata": {},
   "outputs": [],
   "source": [
    "class ListStatistik:\n",
    "    \n",
    "    # Die __init__-Methode nimmt eine Liste von Zahlen entgegen.\n",
    "    def __init__(self, data_list):\n",
    "        self.data_list = data_list\n",
    "        \n",
    "    # ermittelt den größten Wert aus der Liste    \n",
    "    def list_max(self):\n",
    "        max = self.data_list[0]\n",
    "        for i in range(1,len(self.data_list)):\n",
    "            if self.data_list[i] > max:\n",
    "                max = self.data_list[i]\n",
    "        return max\n",
    "    \n",
    "    # ermittelt den kleinsten Wert aus der Liste\n",
    "    def list_min(self):\n",
    "        min = self.data_list[0]\n",
    "        for i in range(1,len(self.data_list)):\n",
    "            if self.data_list[i] < min:\n",
    "                min = self.data_list[i]\n",
    "        return min\n",
    "    \n",
    "    # ermittelt die Summe aller Elemente aus der Liste\n",
    "    def list_sum(self):\n",
    "        sum = 0\n",
    "        for i in range(len(self.data_list)):\n",
    "            sum += self.data_list[i]\n",
    "        return sum\n",
    "    \n",
    "    # ermittelt den Mittelwert aller Elemente aus der Liste\n",
    "    def list_mean(self):\n",
    "        mean = self.list_sum() / len(self.data_list)      \n",
    "        return mean\n",
    "    \n",
    "    # ermittelt den Median aller Elemente aus der Liste\n",
    "    # D.h. Alle Werte werden der Größe nach sortiert.\n",
    "    # Bei ungerader Anzahl von Elementen wird das mittlere aller Elemente zurück gegeben\n",
    "    # Bei gerader Anzahl von Elementen wird der Mittelwert der beiden mittleren Elemente zurück gegeben.\n",
    "    def list_median(self):\n",
    "#        sorted_list = self.data_list.copy()\n",
    "#        self.data_list.sort()\n",
    "        sorted_list = sorted(self.data_list)\n",
    "        if (len(sorted_list) % 2) == 0:\n",
    "            half_len = len(sorted_list)//2\n",
    "            return (sorted_list[half_len]+sorted_list[half_len-1])/2\n",
    "        else:\n",
    "            return sorted_list[len(sorted_list)//2] "
   ]
  },
  {
   "cell_type": "code",
   "execution_count": 2,
   "metadata": {},
   "outputs": [
    {
     "name": "stdout",
     "output_type": "stream",
     "text": [
      "[1, 12, -5, -23, 19, 7]\n",
      "[-23, -5, 1, 7, 12, 19]\n",
      "Max:  19\n",
      "Min:  -23\n",
      "Sum:  11\n",
      "Mean:  1.8333333333333333\n",
      "Median:  4.0\n"
     ]
    }
   ],
   "source": [
    "numbers = [1, 12, -5, -23, 19,7]\n",
    "print(numbers)                      # [1, 12, -5, -23, 19, 7]\n",
    "numbers_sorted = numbers.copy()     # Kopie mit allen Elementen\n",
    "numbers_sorted.sort()\n",
    "print(numbers_sorted)               # [-23, -5, 1, 7, 12, 19]\n",
    "\n",
    "ls = ListStatistik(numbers)\n",
    "print(\"Max: \", ls.list_max())       # Max:  19\n",
    "print(\"Min: \", ls.list_min())       # Min:  -23\n",
    "print(\"Sum: \", ls.list_sum())       # Sum:  11\n",
    "print(\"Mean: \", ls.list_mean())     # Mean:  1.8333333333333333\n",
    "print(\"Median: \", ls.list_median()) # Median:  4.0"
   ]
  }
 ],
 "metadata": {
  "kernelspec": {
   "display_name": "Python 3",
   "language": "python",
   "name": "python3"
  },
  "language_info": {
   "codemirror_mode": {
    "name": "ipython",
    "version": 3
   },
   "file_extension": ".py",
   "mimetype": "text/x-python",
   "name": "python",
   "nbconvert_exporter": "python",
   "pygments_lexer": "ipython3",
   "version": "3.8.3"
  }
 },
 "nbformat": 4,
 "nbformat_minor": 4
}
