{
 "cells": [
  {
   "cell_type": "markdown",
   "metadata": {
    "colab_type": "text",
    "id": "DqrNl0VIk-eE"
   },
   "source": [
    "# **Getting Started with Python! (i.e. with Jupyter NotebooXX)**"
   ]
  },
  {
   "cell_type": "markdown",
   "metadata": {
    "colab_type": "text",
    "id": "hm-hdTehk-eH"
   },
   "source": [
    "## 1.1 Why use Python for Machine Learning ?"
   ]
  },
  {
   "cell_type": "markdown",
   "metadata": {
    "colab_type": "text",
    "id": "mddEd5HYk-eI"
   },
   "source": [
    "Python is more often than not the top most choice for Machine Learning Applications. The main reason for this the amount of simplicity, consistency and stability Python code can bring to AI workflows. \n",
    "\n",
    "Python is a **high level programming Language**. This simply means that the commands used in Python are understandable by humans. These commands are then converted into machine code by using an interpreter. \n",
    "\n",
    "Another reason why python is easy to use is that you don't need to declare variable types unlike other programming languages. (Example let's say you have a variable type called roll number used for storing the roll number of a student. In python you don't need to explicitly mention in other words declare that roll number is an integer type variable.)"
   ]
  },
  {
   "cell_type": "markdown",
   "metadata": {
    "colab_type": "text",
    "id": "cMhyjdzwujTI"
   },
   "source": [
    "Now that we have understood why we have chosen Python as our programming language, let's get started with basic commands we will come across frequently in our AI journey!\n"
   ]
  },
  {
   "cell_type": "markdown",
   "metadata": {},
   "source": [
    "Ah, one more thing. For now we use anaconda with Jupyter Notebooks?! Why? Well, find out yourself:) Maybe it has something to do with python being de facto standard language for AI and anaconda being widely (!) used in this field."
   ]
  },
  {
   "cell_type": "markdown",
   "metadata": {
    "colab_type": "text",
    "id": "xYp-3s9yk-eJ"
   },
   "source": [
    "**1.1.1 The Print Command**"
   ]
  },
  {
   "cell_type": "code",
   "execution_count": null,
   "metadata": {
    "colab": {
     "base_uri": "https://localhost:8080/",
     "height": 34
    },
    "colab_type": "code",
    "executionInfo": {
     "elapsed": 1260,
     "status": "ok",
     "timestamp": 1575449796071,
     "user": {
      "displayName": "Arihant Chindalia",
      "photoUrl": "",
      "userId": "09169935692414395958"
     },
     "user_tz": -330
    },
    "id": "bcdrehBpk-eK",
    "outputId": "2b068e8d-4f16-4bf2-9967-f101b290be96"
   },
   "outputs": [],
   "source": [
    "text = \"Hello World\"\n",
    "Welcome = \"Welcome my little Neophyte! Hope you have a great day!\"\n",
    "print(type(Welcome)) # Ausführen => STRG + ENTER\n",
    "print(Welcome) # System.out.println(...)\n",
    "Welcome = 23\n",
    "print(type(Welcome))\n",
    "print(Welcome)\n",
    "\n",
    "# Strichpunkt am Ende der Zeile => NEIN\n",
    "# Einrückungen WICHTIG!\n",
    "# Keine explizite Angabe von Datentypen\n"
   ]
  },
  {
   "cell_type": "markdown",
   "metadata": {
    "colab_type": "text",
    "id": "J5oFxeF7k-eP"
   },
   "source": [
    "**1.1.2 How to write comments ?**\n"
   ]
  },
  {
   "cell_type": "code",
   "execution_count": null,
   "metadata": {
    "colab": {
     "base_uri": "https://localhost:8080/",
     "height": 34
    },
    "colab_type": "code",
    "executionInfo": {
     "elapsed": 984,
     "status": "ok",
     "timestamp": 1575449799344,
     "user": {
      "displayName": "Arihant Chindalia",
      "photoUrl": "",
      "userId": "09169935692414395958"
     },
     "user_tz": -330
    },
    "id": "4co5pwOMk-eQ",
    "outputId": "0847eebe-3476-4f29-8908-4a02689e957a"
   },
   "outputs": [],
   "source": [
    "print(Welcome) # ich bin ein kommentar\n",
    "# This command prints the value of the variable mentioned inside the parentheses ()\n",
    "# Notice how you being a comment with '#' symbol. Good and easy to read code is always well commented and structured."
   ]
  },
  {
   "cell_type": "markdown",
   "metadata": {
    "colab_type": "text",
    "id": "OzyGeGOok-eW"
   },
   "source": [
    "## **1.2 Standard Data Types in Python**"
   ]
  },
  {
   "cell_type": "markdown",
   "metadata": {
    "colab_type": "text",
    "id": "cCNawR4Fk-eX"
   },
   "source": [
    "Although we don’t have to declare type for python variables, a value does have a type. Python supports the following Python data types:\n",
    "1. Numbers\n",
    "2. String\n",
    "3. List\n",
    "4. Tuple\n",
    "5. Dictionary"
   ]
  },
  {
   "cell_type": "markdown",
   "metadata": {
    "colab_type": "text",
    "id": "LSYMmPJSk-eY"
   },
   "source": [
    "**1.2.1 Numbers**\n",
    "\n",
    "The different numeric Python data types are:-\n",
    "\n",
    "A. int– int stands for integer. This Python Data Type holds integers. \n",
    "\n",
    "B. float– This Python Data Type holds floating point real values. \n",
    "The major difference is float can be used for both intergers and decimals. \n",
    "\n",
    "We can use the type() function to find which data type a variable belongs to."
   ]
  },
  {
   "cell_type": "code",
   "execution_count": null,
   "metadata": {
    "colab": {
     "base_uri": "https://localhost:8080/",
     "height": 51
    },
    "colab_type": "code",
    "executionInfo": {
     "elapsed": 772,
     "status": "ok",
     "timestamp": 1575450437995,
     "user": {
      "displayName": "Arihant Chindalia",
      "photoUrl": "",
      "userId": "09169935692414395958"
     },
     "user_tz": -330
    },
    "id": "d3-gfmuqk-eZ",
    "outputId": "33acf1ea-ab3a-49b9-8754-7e09c779df2e"
   },
   "outputs": [],
   "source": [
    "roll_number = 1234\n",
    "marks = 52.5\n",
    "print (\"Datatype for roll_number is\" + \"noch ein String\")\n",
    "#System.out.println(\"Der tolle Text \" + eine_Variable);\n",
    "print (\"Datatype for marks is\",type(marks)) \n",
    "#Notice that we did not declare either of the variables with a particular datatype"
   ]
  },
  {
   "cell_type": "markdown",
   "metadata": {
    "colab_type": "text",
    "id": "1u8R10hCk-ef"
   },
   "source": [
    "**1.2.2 String**\n",
    "\n",
    "A string is a sequence of characters. Example of a string \"Hey there, are you enjoying this module so far ?\""
   ]
  },
  {
   "cell_type": "code",
   "execution_count": null,
   "metadata": {
    "colab": {
     "base_uri": "https://localhost:8080/",
     "height": 34
    },
    "colab_type": "code",
    "executionInfo": {
     "elapsed": 775,
     "status": "ok",
     "timestamp": 1575450560087,
     "user": {
      "displayName": "Arihant Chindalia",
      "photoUrl": "",
      "userId": "09169935692414395958"
     },
     "user_tz": -330
    },
    "id": "DYOePjfOk-eg",
    "outputId": "04621078-8f13-45ba-ad05-0d6cd865d683"
   },
   "outputs": [],
   "source": [
    "string=\"What skills have you learnt today ?\"\n",
    "print(type(string)) # jupyter notebooks: letze Anweisung in einer Zelle wird \"geprinted\"\n",
    "print(string)\n",
    "string"
   ]
  },
  {
   "cell_type": "markdown",
   "metadata": {
    "colab_type": "text",
    "id": "0p6bMmf-k-en"
   },
   "source": [
    "**1.2.3 Lists**\n",
    "\n",
    "A list is a collection of values. Remember, it may contain different types of values. \n",
    "To define a list, you must put values separated with commas in square brackets."
   ]
  },
  {
   "cell_type": "code",
   "execution_count": null,
   "metadata": {
    "colab": {
     "base_uri": "https://localhost:8080/",
     "height": 34
    },
    "colab_type": "code",
    "executionInfo": {
     "elapsed": 658,
     "status": "ok",
     "timestamp": 1575450924400,
     "user": {
      "displayName": "Arihant Chindalia",
      "photoUrl": "",
      "userId": "09169935692414395958"
     },
     "user_tz": -330
    },
    "id": "jcVuCJ3Rk-en",
    "outputId": "71016302-3614-4e2a-de25-55b93554850b"
   },
   "outputs": [],
   "source": [
    "noten = [1,2,3,4,5,6]\n",
    "# \"array\" typ integer, 6 eintraege\n",
    "\n",
    "namen = [\"susi\", \"paule\", \"bimfi\", \"dani\"]\n",
    "# \"array\" typ string, 4 eintraege\n",
    "\n",
    "Students=['Susan',25,'John',12, [23,42,7,13]] \n",
    "# Here the name of the student is stored with their respective roll numbers \n",
    "#type(Students)\n",
    "#print(type(namen))\n",
    "#print(type(namen[2]))\n",
    "print(type(Students[4][0]))\n",
    "Students[4][2]\n"
   ]
  },
  {
   "cell_type": "markdown",
   "metadata": {
    "colab_type": "text",
    "id": "NpL6EFhrk-eq"
   },
   "source": [
    "**1.2.4 Tuples**\n",
    "\n",
    "A tuple is a sequence of Python objects. \n",
    "\n",
    "You might be wondering how is it different from lists in that case ?\n",
    "\n",
    "The main differences between tuples and lists are : \n",
    "1. Tuples cannot be modified element wise like lists (Objects which cannot be modified in such a manner are described as **immutable** objects). \n",
    "2. Tuples use parentheses, whereas lists use square brackets."
   ]
  },
  {
   "cell_type": "code",
   "execution_count": null,
   "metadata": {
    "colab": {
     "base_uri": "https://localhost:8080/",
     "height": 248
    },
    "colab_type": "code",
    "executionInfo": {
     "elapsed": 775,
     "status": "error",
     "timestamp": 1575455382111,
     "user": {
      "displayName": "Arihant Chindalia",
      "photoUrl": "",
      "userId": "09169935692414395958"
     },
     "user_tz": -330
    },
    "id": "hcAB9ncnk-er",
    "outputId": "47f70794-d29d-4c08-cf3d-0cbaeaef6ae0"
   },
   "outputs": [],
   "source": [
    "Students=['Susan',25,'John',12] #List being defined \n",
    "Students[1]= '26' \n",
    "print(Students)\n",
    "#print(type(Students[1]))\n",
    "\n",
    "#x = 11\n",
    "#print(3*x)\n",
    "\n",
    "#x = '11'\n",
    "#print(3*x)\n",
    "\n",
    "\n",
    "Students_new = ('Susan',25,'John',12) #Tuple being defined\n",
    "print(type(Students_new))\n",
    "print(Students_new)\n",
    "Students_new[1]= '26' # werte eines tuples sind unantastbar / immutable !!!\n",
    "#print(Students_new) #Notice the error which shows up in the output\n"
   ]
  },
  {
   "cell_type": "markdown",
   "metadata": {
    "colab_type": "text",
    "id": "Iuesldp6k-et"
   },
   "source": [
    "**1.2.5. Dictionary**\n",
    "\n",
    "\n",
    "A Dictionary in Python works similar to the Dictionary in a real world. Keys of a Dictionary must be unique and\n",
    "of immutable data type such as Strings, Integers and tuples, but the key-values can be repeated and be of any type."
   ]
  },
  {
   "cell_type": "code",
   "execution_count": null,
   "metadata": {
    "colab": {
     "base_uri": "https://localhost:8080/",
     "height": 34
    },
    "colab_type": "code",
    "executionInfo": {
     "elapsed": 1020,
     "status": "ok",
     "timestamp": 1575457882820,
     "user": {
      "displayName": "Arihant Chindalia",
      "photoUrl": "",
      "userId": "09169935692414395958"
     },
     "user_tz": -330
    },
    "id": "Xk0a7lxIk-eu",
    "outputId": "d8f08fd4-2c6f-4dd8-9639-064f2fe21e8d"
   },
   "outputs": [],
   "source": [
    "Time1=['Monday',[1,2,2000]]\n",
    "#print(Time)\n",
    "\n",
    "#Time2={'Day':'Dienstag','Date':[1,2,2000]} # key => value\n",
    "Time2={'Day':['Montag', 'Dienstag', \"Mittwoch\", \"...\"],'Date':[1,2,2000]} # key => value\n",
    "\n",
    "#Day = \"Day\"\n",
    "\n",
    "#print(type(Time2))\n",
    "#print(Time2)\n",
    "\n",
    "# Zugriff auf Monday in Time1\n",
    "#print(Time1[0])\n",
    "#print(Time2[\"Day\"][2])\n",
    "print(Time2[\"Date\"][2])\n",
    "\n"
   ]
  },
  {
   "cell_type": "markdown",
   "metadata": {
    "colab_type": "text",
    "id": "UoGmGRSfk-fv"
   },
   "source": [
    "## **1.3 Python Program Flow**"
   ]
  },
  {
   "cell_type": "markdown",
   "metadata": {
    "colab_type": "text",
    "id": "KrpbLzETk-fw"
   },
   "source": [
    "In general, statements are executed sequentially: The first statement in a function is executed first, followed by the second, and so on. There may be a situation when you need to execute a block of code several number of times.\n",
    "\n",
    "Programming languages provide various control structures that allow for more complicated execution paths.\n",
    "\n",
    "A loop statement allows us to execute a statement or group of statements multiple times\n",
    "For further info- https://www.tutorialspoint.com/python/python_loops.htm"
   ]
  },
  {
   "cell_type": "markdown",
   "metadata": {
    "colab_type": "text",
    "id": "sNHDU1ORk-fx"
   },
   "source": [
    "**1.3.1 If-Else Statement**"
   ]
  },
  {
   "cell_type": "code",
   "execution_count": null,
   "metadata": {
    "colab": {},
    "colab_type": "code",
    "id": "dz9K4eomk-fy",
    "outputId": "a329263f-bf6b-44bf-cfce-2d0bbe5089ba"
   },
   "outputs": [],
   "source": [
    "a,b,c = 2,3,23 # \"weird\" assignment style, right? :)\n",
    "\n",
    "#a,b,c,d,e = function_call() #given that fcall returns 235412er-tupel\n",
    "\n",
    "#a = 5\n",
    "#b = 3\n",
    "\n",
    "# Runde Klammern bei Bedingung optional, keine Blockbildung mit { ... }, sondern via EINRÜCKUNG!! \n",
    "# Abschluss von if bzw. else bzw. else if...  mit :\n",
    "# in java: if( a > b ) { .... } else { ... }\n",
    "# in pyth: if BEDINGUNG: >>>EINRÜCKEN ... else: >>> EINRÜCKEN\n",
    "if (a > b):\n",
    "    print(\"a\")\n",
    "    print(\"Ja, es ist wirklich a!!!\")\n",
    "else:\n",
    "    print(\"b\")\n",
    "    print(\"Ja, es ist wirklich b!!!\")\n",
    "\n",
    "print(\"Ich bin entspannt, ich werde sowieso ausgeführt nach der Verzweigung!\")\n",
    "\n",
    "#print(\"Mal sehen, ich erwarte einen Error...\")\n",
    "#a = 14 / 4"
   ]
  },
  {
   "cell_type": "code",
   "execution_count": null,
   "metadata": {
    "colab": {},
    "colab_type": "code",
    "id": "RpAH33DQk-f1",
    "outputId": "fab32c55-0358-4212-dc25-cb6cdce6bf70"
   },
   "outputs": [],
   "source": [
    "a = 23\n",
    "b = 17\n",
    "if a>6:\n",
    "    print(f\"{a} is {b} good {a}{b}\") # f\"(....) as shortcut for using string.format - see https://www.w3schools.com/python/ref_string_format.asp \n",
    "    print(a, \"is good\")        "
   ]
  },
  {
   "cell_type": "markdown",
   "metadata": {
    "colab_type": "text",
    "id": "oqLbqqSxk-f4"
   },
   "source": [
    "**1.3.2 While Loop**"
   ]
  },
  {
   "cell_type": "markdown",
   "metadata": {
    "colab_type": "text",
    "id": "UzMUGE81k-f4"
   },
   "source": [
    "A while loop in python iterates till its condition becomes False. In other words, it executes the statements under itself while the condition it takes is True. When the program control reaches the while loop, the condition is checked. If the condition is true, the block of code under it is executed. Remember to indent all statements under the loop equally. After that, the condition is checked again. This continues until the condition becomes false. Then, the first statement, if any, after the loop is executed."
   ]
  },
  {
   "cell_type": "code",
   "execution_count": null,
   "metadata": {
    "colab": {},
    "colab_type": "code",
    "id": "0tIGirk8k-f5",
    "outputId": "fc5d52b3-30c7-4619-f523-cbedeb933f0f"
   },
   "outputs": [],
   "source": [
    "a = 3 # also try with a = -3, explain! \n",
    "while a > 0: # Abweisende/kopfgesteuerte Schleife \n",
    "    print(a)\n",
    "    #a = a - 1\n",
    "    a = 1\n",
    "    if a == 1:\n",
    "        break # bricht ausfuehrung naechst umgebende schleife ab\n",
    "else:\n",
    "    print(\"Reached\")\n",
    "\n",
    "print(\"Welcome back to sequential execution flow...\")"
   ]
  },
  {
   "cell_type": "code",
   "execution_count": null,
   "metadata": {},
   "outputs": [],
   "source": [
    "a = 10\n",
    "while a > 0:\n",
    "    pass # ganz toller DO NOTHING\n",
    "\n",
    "if a > 0:\n",
    "    # do this\n",
    "    a = a - 1\n",
    "else:\n",
    "    # do nothing\n",
    "    pass\n",
    " \n",
    "print(\"Bin wieder da...\")"
   ]
  },
  {
   "cell_type": "markdown",
   "metadata": {
    "colab_type": "text",
    "id": "YVq8f1b-k-f6"
   },
   "source": [
    "**1.3.3 For Loop**"
   ]
  },
  {
   "cell_type": "markdown",
   "metadata": {
    "colab_type": "text",
    "id": "ghYYR5Ezk-f7"
   },
   "source": [
    "Executes a sequence of statements multiple times and abbreviates the code that manages the loop variable. Also see https://data-flair.training/blogs/python-loop/"
   ]
  },
  {
   "cell_type": "code",
   "execution_count": null,
   "metadata": {
    "colab": {},
    "colab_type": "code",
    "id": "FoaCg_Y4k-f7",
    "outputId": "04ab2235-66ee-4577-e3df-6da023fbf3c2",
    "scrolled": true
   },
   "outputs": [],
   "source": [
    "for i in range(10): # see the beauty of this syntax? but wait, there is more to the range function...\n",
    "                    # range(x) - ab 0, x exklusive\n",
    "    print(i)\n",
    "    \n",
    "#type(range(10))\n"
   ]
  },
  {
   "cell_type": "code",
   "execution_count": null,
   "metadata": {
    "colab": {},
    "colab_type": "code",
    "id": "91FtVcYmk-f-",
    "outputId": "7519e133-6bd3-415e-fc6b-f9da0300964c"
   },
   "outputs": [],
   "source": [
    "lst = [\"la\",\"lu\"]\n",
    "#lst[-1] # letztes Element, von \"hinten\" her gezaehlt\n",
    "#lst[-2] # negative indexierung, -1 letztes Element, -2 vorletztes Element...\n",
    "#lst[-3]\n",
    "\n",
    "\n",
    "#java für letztes element eines arrays: lst[lst.length()-1]\n",
    "#python für letztes element einer liste: lst[-1]\n",
    "\n",
    "for i in range(10):\n",
    "    print(lst)\n",
    "    lst.append(lst[-1]+lst[-2]) # omg, what is happening here????? heeeelp!\n",
    "    # fuegt element einer liste hinzu (hinten)\n",
    "               "
   ]
  },
  {
   "cell_type": "code",
   "execution_count": null,
   "metadata": {
    "colab": {},
    "colab_type": "code",
    "id": "yfzcENu8k-gC",
    "outputId": "8fbc040f-2514-4900-a24b-9fe60d3e2bf4"
   },
   "outputs": [],
   "source": [
    "### some simple input / \"readline\" for user interaction...\n",
    "username=str(input(\"enter your username:\"))\n",
    "pswrd=str(input(\"enter your password:\"))\n",
    "if username==\"python programmer\" and pswrd==\"private\":\n",
    "    print(\"welcome python programmer\")\n",
    "elif username == \"pythonCoder\" and pswrd == \"alpha408\":\n",
    "    print(\"Welcome pythonCoder\")\n",
    "elif username == \"deepak\" and pswrd == \"lovecoding\":\n",
    "    print(\"Welcome Deepak\")\n",
    "elif username == \"devraj\" and pswrd == \"lovetouring\":\n",
    "    print(\"Welcome Devraj\")\n",
    "elif username == \"dev\" and pswrd == \"lovesoftwaredeveloping\":\n",
    "    print(\"Welcome Dev\")\n",
    "elif username == \"guest\" and pswrd == \"guest\":\n",
    "    print(\"Welcome guest\")\n",
    "else:\n",
    "    print(\"Login failed!\")"
   ]
  }
 ],
 "metadata": {
  "colab": {
   "collapsed_sections": [],
   "name": "Python Notebook Basics.ipynb",
   "provenance": [
    {
     "file_id": "0B3M9hEjjCXG2Y2lGMk84ZnVVVU50NHhHaXVXSVoxYXRmcVB3",
     "timestamp": 1575358421809
    }
   ],
   "toc_visible": true
  },
  "kernelspec": {
   "display_name": "Python 3 (ipykernel)",
   "language": "python",
   "name": "python3"
  },
  "language_info": {
   "codemirror_mode": {
    "name": "ipython",
    "version": 3
   },
   "file_extension": ".py",
   "mimetype": "text/x-python",
   "name": "python",
   "nbconvert_exporter": "python",
   "pygments_lexer": "ipython3",
   "version": "3.9.7"
  }
 },
 "nbformat": 4,
 "nbformat_minor": 1
}
