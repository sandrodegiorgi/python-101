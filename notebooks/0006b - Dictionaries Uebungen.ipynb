{
 "cells": [
  {
   "cell_type": "markdown",
   "metadata": {},
   "source": [
    "# Übungen: Dictionaries"
   ]
  },
  {
   "cell_type": "markdown",
   "metadata": {},
   "source": [
    "##### Aufgabe 1\n",
    "1. Erweitere das Telefonbuch um weitere Personen/Nummern.\n",
    "1. Finde die Telefonnummer einer Person im Telefonbuch heraus.\n",
    "1. Gib eine sinnvolle Meldung aus, wenn nach einer unbekannten Person gesucht wird."
   ]
  },
  {
   "cell_type": "code",
   "execution_count": null,
   "metadata": {},
   "outputs": [],
   "source": [
    "telefonbuch = {}\n",
    "telefonbuch[\"Tick\"] = \"12345\"\n",
    "telefonbuch[\"Trick\"] = \"23456\"\n",
    "\n",
    "# Lösung:\n"
   ]
  },
  {
   "cell_type": "markdown",
   "metadata": {},
   "source": [
    "##### Aufgabe 2\n",
    "Finde mithilfe des gegebenen Dictionary `tochter_mutter` die Vorfahren mütterlicherseits einer Frau aus der Liste heraus. Beispielausgabe für \"Lilli\":\n",
    "\n",
    "*Lilli ist die Tochter von Anne.  \n",
    "Anne ist die Tochter von Ursula.  \n",
    "Ursula ist die Tochter von Lydia.  \n",
    "Die Mutter von Lydia\n",
    "ist nicht bekannt.*"
   ]
  },
  {
   "cell_type": "code",
   "execution_count": null,
   "metadata": {},
   "outputs": [],
   "source": [
    "tochter_mutter = dict(Nicole=\"Gabi\", Anne=\"Ursula\", Margret=\"Anneliese\", Matilda=\"Anne\", \n",
    "                      Lilli=\"Anne\", Cornelia=\"Margret\", Marlene=\"Nicole\", Ursula=\"Lydia\")\n",
    "gesucht = \"Lilli\"\n",
    "\n",
    "# Lösung:\n"
   ]
  },
  {
   "cell_type": "markdown",
   "metadata": {},
   "source": [
    "##### Aufgabe 3\n",
    "In den Aufgaben zu Listen hast du sämtliche Wörter von Goethes *Faust* in einer Liste gespeichert. Erweitere diese Lösung (s.u.) nun so, dass die Häufigkeiten für jedes Wort gezählt und in einem Dictionary `zaehler` gespeichert werden. Gib dann die zehn häufigsten Wörter aus.\n",
    "\n",
    "Zur Kontrolle hier die zu erwartende Ausgabe:\n",
    "\n",
    "[(507, 'und'),\n",
    " (474, 'Faust'),\n",
    " (465, 'die'),\n",
    " (461, 'ich'),\n",
    " (454, 'der'),\n",
    " (412, 'Und'),\n",
    " (395, 'nicht'),\n",
    " (368, 'zu'),\n",
    " (312, 'ist'),\n",
    " (296, 'ein')]"
   ]
  },
  {
   "cell_type": "code",
   "execution_count": null,
   "metadata": {},
   "outputs": [],
   "source": [
    "from urllib.request import urlopen\n",
    "import string\n",
    "\n",
    "URL = \"https://math-inf.uni-greifswald.de/storages/uni-greifswald/fakultaet/mnf/mathinf/hellmuth/Teaching/AlgorDatastrWS1819/Goethe--Faust.txt\"\n",
    "zeilen = [z.decode(\"UTF-8\") for z in urlopen(URL)]\n",
    "worte = [wort.strip(string.punctuation) for zeile in zeilen for wort in zeile.split()]\n",
    "\n",
    "# Lösung:\n"
   ]
  },
  {
   "cell_type": "markdown",
   "metadata": {},
   "source": [
    "##### Aufgabe 4\n",
    "Ein dict kann man nicht einfach invertieren, da für verschiedene Schlüssel derselbe Wert gespeichert sein kann.\n",
    "\n",
    "1. Wie könnte man trotzdem aus `tochter_mutter` (s. vorige Aufgabe) trotzdem `mutter_toechter` machen?\n",
    "1. Zeige alle weiblichen Nachfahren von \"Emmi\" an."
   ]
  },
  {
   "cell_type": "code",
   "execution_count": null,
   "metadata": {},
   "outputs": [],
   "source": [
    "# Lösung Teil 1:\n"
   ]
  },
  {
   "cell_type": "code",
   "execution_count": null,
   "metadata": {},
   "outputs": [],
   "source": [
    "# Lösung Teil 2:\n"
   ]
  }
 ],
 "metadata": {
  "kernelspec": {
   "display_name": "Python 3 (ipykernel)",
   "language": "python",
   "name": "python3"
  },
  "language_info": {
   "codemirror_mode": {
    "name": "ipython",
    "version": 3
   },
   "file_extension": ".py",
   "mimetype": "text/x-python",
   "name": "python",
   "nbconvert_exporter": "python",
   "pygments_lexer": "ipython3",
   "version": "3.9.7"
  }
 },
 "nbformat": 4,
 "nbformat_minor": 4
}
