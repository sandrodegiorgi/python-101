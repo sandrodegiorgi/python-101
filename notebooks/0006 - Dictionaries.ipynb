{
 "cells": [
  {
   "cell_type": "markdown",
   "metadata": {},
   "source": [
    "# Dictionaries"
   ]
  },
  {
   "cell_type": "markdown",
   "metadata": {},
   "source": [
    "(auch: assoziative Arrays, Hashtabelle, (Hash-)Maps)\n",
    "\n",
    "Dictionaries sind die wahrscheinlich flexibelste Datenstruktur, die es gibt. Sie sind eine natürliche Erweiterung von Arrays und werden in Python syntaktisch auch genau wie Arrays angesprochen.\n",
    "\n",
    "Java stellt dieselbe Datenstruktur unter dem Namen HashMap natürlich auch zur Verfügung. Da HashMaps aber umständlicher zu benutzen sind als Pythons Dictionaries sind sie in der Schule (zu Unrecht!) viel weniger gebräuchlich. Im Gegensatz dazu werden Sie in fast jedem nichttrivialen Python-Programm Dictionaries antreffen - sie sind einfach zu praktisch!\n",
    "\n",
    "In einem Dictionary wird jedem *Schlüssel* (key) ein *Wert* (value) zugeordnet:"
   ]
  },
  {
   "cell_type": "code",
   "execution_count": null,
   "metadata": {},
   "outputs": [],
   "source": [
    "namen = {}    # erzeugt ein leeres dictionary. Alternativ: dict()\n",
    "namen[\"Potter\"] = \"Harry\"   # Schlüssel: Nachname, Wert: Vorname\n",
    "namen[\"Granger\"] = \"Hermine\"\n",
    "namen[\"Weasley\"] = \"Ron\"\n",
    "namen[\"Dumbledore\"] = \"Albus\""
   ]
  },
  {
   "cell_type": "code",
   "execution_count": null,
   "metadata": {},
   "outputs": [],
   "source": [
    "#nachname = input(\"Geben Sie bitte Ihren Nachnamen ein: \")\n",
    "nachname = \"Dumbledore\"   # statt input(), damit das Notebook nicht immer auf eine Eingabe wartet\n",
    "vorname = namen[nachname]\n",
    "print(\"Hallo\", vorname, nachname)"
   ]
  },
  {
   "cell_type": "code",
   "execution_count": null,
   "metadata": {},
   "outputs": [],
   "source": [
    "#namen[\"Meier\"]   # löst eine Exception aus, da \"Meier\" nicht im dict\n",
    "# Alternativ: Bei der get-Methode kann ein Default-Wert angegeben werden, falls der Key nicht gefunden wird\n",
    "namen.get(\"Meier\", \"Bei Harry Potter gibt es diesen Namen nicht\")  \n",
    "\n",
    "# Häufig ist es auch eleganter/einfacher (und wegen der blitzschnelle Implementation von dicts als Hashtabelle auch nicht langsamer) mit \"in\" die Existenz eines Schlüssels zu prüfen:\n",
    "for name in [\"Weasley\", \"Potter\", \"Longbottom\", \"Voldemort\"]:\n",
    "    if name in namen:\n",
    "        print(namen[name], name)\n",
    "    else:\n",
    "        print(\"NN\", name)\n",
    "    # oder ganz kurz und knapp:\n",
    "    print(namen[name] if name in namen else \"NN\")"
   ]
  },
  {
   "cell_type": "markdown",
   "metadata": {},
   "source": [
    "Natürlich kann man Einträge auch überschreiben und löschen:"
   ]
  },
  {
   "cell_type": "code",
   "execution_count": null,
   "metadata": {},
   "outputs": [],
   "source": [
    "nn = \"Weasley\"\n",
    "namen[nn] = \"Percy\"\n",
    "print(namen[nn], nn)\n",
    "del namen[nn]\n",
    "print(namen.get(nn, f\"Ich kenne niemanden mehr mit Namen {nn}\"))"
   ]
  },
  {
   "cell_type": "code",
   "execution_count": null,
   "metadata": {},
   "outputs": [],
   "source": [
    "for nn in namen:   # Schleifen iterieren standardmäßig über die *Schlüssel*, d.h. hier: die Nachnamen\n",
    "    print(f\"{namen[nn]} heißt mit Nachnamen {nn}\")   # in einem sog. f-String (Form: f\"...\"\") werden die Ausdrücke in Klammern evaluiert. Sehr praktisch!"
   ]
  },
  {
   "cell_type": "code",
   "execution_count": null,
   "metadata": {},
   "outputs": [],
   "source": [
    "for vn in namen.values():\n",
    "    print(f\"Jemand heißt mit Vornamen {vn}.\")"
   ]
  },
  {
   "cell_type": "code",
   "execution_count": null,
   "metadata": {},
   "outputs": [],
   "source": [
    "preise = dict(Eis=2, Kuchen=1.5, Kaffee=1, Tee=1)   # Wenn die Keys Strings sind, kann man den praktischen Konstruktor dict() verwenden\n",
    "bestellung = \"Kuchen\"\n",
    "preis = preise[bestellung]\n",
    "print(bestellung, \"kostet\", preis, \"EUR.\")"
   ]
  }
 ],
 "metadata": {
  "kernelspec": {
   "display_name": "Python 3 (ipykernel)",
   "language": "python",
   "name": "python3"
  },
  "language_info": {
   "codemirror_mode": {
    "name": "ipython",
    "version": 3
   },
   "file_extension": ".py",
   "mimetype": "text/x-python",
   "name": "python",
   "nbconvert_exporter": "python",
   "pygments_lexer": "ipython3",
   "version": "3.9.7"
  }
 },
 "nbformat": 4,
 "nbformat_minor": 4
}
