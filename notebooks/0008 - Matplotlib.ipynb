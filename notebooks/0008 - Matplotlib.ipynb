{
 "cells": [
  {
   "cell_type": "markdown",
   "metadata": {},
   "source": [
    "# matplotlib\n",
    "de facto standard module for easy-peasy visualisations in python - and it does well with notebooks, so... :)\n",
    "\n",
    "##### also see\n",
    "* https://matplotlib.org/tutorials/\n",
    "* https://matplotlib.org/tutorials/introductory/pyplot.html\n",
    "* https://www.python-kurs.eu/matplotlib.php\n",
    "* https://www.data-blogger.com/2017/11/15/python-matplotlib-pyplot-a-perfect-combination/\n",
    "* https://matplotlib.org/3.1.1/api/markers_api.html"
   ]
  },
  {
   "cell_type": "code",
   "execution_count": 2,
   "metadata": {},
   "outputs": [],
   "source": [
    "import matplotlib.pyplot as plt"
   ]
  },
  {
   "cell_type": "code",
   "execution_count": 3,
   "metadata": {},
   "outputs": [],
   "source": [
    "x = range(6) #range(0,6,1)\n",
    "y = [xd**2 for xd in x]"
   ]
  },
  {
   "cell_type": "code",
   "execution_count": null,
   "metadata": {},
   "outputs": [],
   "source": [
    "plt.title('some data')\n",
    "plt.plot(x,y,color='blue')\n",
    "plt.xlabel('x-values')\n",
    "plt.ylabel('y-values')\n",
    "plt.grid(True)          # Grid?\n",
    "plt.axis([0, 5, 0, 25]) # scale\n",
    "plt.show()              # plot!!"
   ]
  },
  {
   "cell_type": "code",
   "execution_count": null,
   "metadata": {},
   "outputs": [],
   "source": [
    "import numpy as np\n",
    "\n",
    "x = np.arange(start=-20, stop=21)\n",
    "y = x**2     # sowas funktioniert nicht mit einer normalen Liste aus Python z.B: [1,2,3]\n",
    "plt.text(-10, 300, 'quadratics')\n",
    "plt.grid(True)\n",
    "plt.scatter(x, y, color='blue',marker='*')  # square - weitere marker https://matplotlib.org/3.1.1/api/markers_api.html\n",
    "plt.show()"
   ]
  },
  {
   "cell_type": "code",
   "execution_count": null,
   "metadata": {},
   "outputs": [],
   "source": [
    "def f(t):\n",
    "    return np.exp(-t) * np.cos(2*np.pi*t)\n",
    "\n",
    "t1 = np.arange(0.0, 5.0, 0.1)\n",
    "t2 = np.arange(0.0, 5.0, 0.02)\n",
    "\n",
    "plt.figure()\n",
    "plt.subplot(221)             # 2 rows, 1 column, index 1 -> plt.subplot(2,1,1)\n",
    "plt.plot(t1, f(t1),color='blue')\n",
    "\n",
    "plt.subplot(222)             # 2 rows, 1 column, index 2\n",
    "plt.plot(t2, np.cos(2*np.pi*t2), 'r--')\n",
    "plt.show()"
   ]
  }
 ],
 "metadata": {
  "kernelspec": {
   "display_name": "Python 3 (ipykernel)",
   "language": "python",
   "name": "python3"
  },
  "language_info": {
   "codemirror_mode": {
    "name": "ipython",
    "version": 3
   },
   "file_extension": ".py",
   "mimetype": "text/x-python",
   "name": "python",
   "nbconvert_exporter": "python",
   "pygments_lexer": "ipython3",
   "version": "3.9.7"
  }
 },
 "nbformat": 4,
 "nbformat_minor": 4
}
