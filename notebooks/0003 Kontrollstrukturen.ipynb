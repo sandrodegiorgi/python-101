{
 "cells": [
  {
   "cell_type": "markdown",
   "metadata": {},
   "source": [
    "# Kontrollstrukturen\n",
    "## Verzweigungen\n",
    "#### Wie in anderen Programmiersprachen: \n",
    "* Wert auf Gleichheit überprüfen mit ==\n",
    "* Wert zuweisen mit =\n",
    "\n",
    "#### Was fällt auf?\n",
    "* keine {geschweiften Klammern}, sondern Strukturierung durch Einrückung (und Doppelpunkt)\n",
    "* Code insgesamt sehr kompakt und aufs Wesentliche reduziert:\n",
    "\n",
    "### if-Statement\n",
    "* Beachte den : nach der Bedingung bzw. nach else\n",
    "* logische Operationen werden durch die Schlüsselwörter and, or, not umgesetzt z.B: x > 5 and x < 10 (CAVE: 5 < x < 10)! \n",
    "\n",
    "* siehe https://www.w3schools.com/python/python_conditions.asp"
   ]
  },
  {
   "cell_type": "code",
   "execution_count": null,
   "metadata": {},
   "outputs": [],
   "source": [
    "# einseitige Entscheidung\n",
    "zahl_input = int(input(\"Gebe eine Zahl von 1-10 ein!\"))\n",
    "if zahl_input == 4:\n",
    "    print(\"richtig!\")\n",
    "    print(\"gehört noch if-True-Block, da eingerückt\")\n",
    "print(\"Das wird auf jeden Fall ausgegeben.\")"
   ]
  },
  {
   "cell_type": "code",
   "execution_count": null,
   "metadata": {},
   "outputs": [],
   "source": [
    "# beidseitig Entscheidung\n",
    "zahl_input = int(input(\"Gebe eine Zahl von 1-10 ein!\"))\n",
    "if zahl_input == 4:\n",
    "    print(\"richtig!\")\n",
    "else:\n",
    "    print(\"falsch!\")"
   ]
  },
  {
   "cell_type": "code",
   "execution_count": null,
   "metadata": {},
   "outputs": [],
   "source": [
    "# es geht auch geschachtelt\n",
    "zahl_input = int(input(\"Gebe eine Zahl von 1-10 ein!\"))\n",
    "\n",
    "if zahl_input == 4:\n",
    "    print(\"Du hast gewonnen!\")\n",
    "elif zahl_input == 5 or zahl_input == 3:\n",
    "    print(\"Sehr knapp daneben!\")\n",
    "else:\n",
    "    print(\"Du hast verloren!\")"
   ]
  },
  {
   "cell_type": "markdown",
   "metadata": {},
   "source": [
    "### switch Statement\n",
    "Im Gegensatz zu fast allen anderen Programmiersprachen gibt es in Python **keine** Mehrfachverzweigung mit switch-case.  \n",
    "Man könnte deshalb der Versuchung unterliegen das gewünschte Verhalten mit einer längeren Kette von **if-elif-elif..else** zu realisieren.  \n",
    "Allerdings ist dies nicht gerade elegant.  \n",
    "Die Idee switch Statements zu implementieren, ist das Verwenden der mächtigen Dictionary (wird noch genauer angeschaut) Mappings, auch bekannt als Associative Arrays. Sie bieten einfache one-to-one Key-Value Mappings."
   ]
  },
  {
   "cell_type": "code",
   "execution_count": null,
   "metadata": {},
   "outputs": [],
   "source": [
    "switcher = {\n",
    "    1: \"Januar\",\n",
    "    2: \"Februar\",\n",
    "    3: \"März\",\n",
    "    4: \"April\",\n",
    "    5: \"Mai\",\n",
    "    6: \"Juni\",\n",
    "    7: \"Juli\",\n",
    "    8: \"August\",\n",
    "    9: \"September\",\n",
    "    10: \"Oktober\",\n",
    "    11: \"November\",\n",
    "    12: \"Dezember\"\n",
    "}\n",
    "type(switcher)\n",
    "\n",
    "monat = 13\n",
    "\n",
    "print(switcher.get(monat,\"ungültiger Monat\")) # Angabe \"fail\"-Rückgabe-Wert bei Key nicht gefunden"
   ]
  },
  {
   "cell_type": "markdown",
   "metadata": {},
   "source": [
    "## Schleifen\n",
    "### for-Schleife\n",
    "* siehe https://www.w3schools.com/python/python_for_loops.asp\n",
    "\n",
    "#### Zählen von 0 bis Endwert"
   ]
  },
  {
   "cell_type": "code",
   "execution_count": null,
   "metadata": {},
   "outputs": [],
   "source": [
    "# zähle von 0 bis < 5 , Schrittweite 1 (default)\n",
    "for i in range(1,5):\n",
    "    print(i)"
   ]
  },
  {
   "cell_type": "markdown",
   "metadata": {},
   "source": [
    "#### Zählen mit Anfangswert ungleich 0\n",
    "Wird range() mit 2 Parametern genutzt, so handelt es sich beim ersten Parameter um den Anfangswert und beim zweiten um den Endwert\n"
   ]
  },
  {
   "cell_type": "code",
   "execution_count": null,
   "metadata": {},
   "outputs": [],
   "source": [
    "# zähle von 5 bis < 10, Schrittweite 1\n",
    "for i in range(5,10):\n",
    "    print(i)"
   ]
  },
  {
   "cell_type": "markdown",
   "metadata": {},
   "source": [
    "#### Zählen mit Anfangswert und Schrittweite ungleich 1\n",
    "* Bei einer Schrittweite ungleich 1 muss auch der Startwert für die Schleife angegeben werden.\n",
    "* Fließkommazahlen werden als Parameter bei range() nicht akzeptiert."
   ]
  },
  {
   "cell_type": "code",
   "execution_count": null,
   "metadata": {
    "scrolled": true
   },
   "outputs": [],
   "source": [
    "# zähle von 10 bis > 0 mit Schrittweite -2\n",
    "for i in range(10,0,-3):\n",
    "    print(i)"
   ]
  },
  {
   "cell_type": "markdown",
   "metadata": {},
   "source": [
    "#### for Schleife mit else\n",
    "* Es ist möglich bei einer **kopfgesteuerten** Schleife (also auch while) einen *else-Zweig* anzugeben\n",
    "* Semantik ist: Der else Zweig wird **immer** ausgeführt, **auch** wenn die Schleifenbedingung direkt falsch ist\n",
    "* Erinnern Sie sich an die while Schleife des ersten Notebooks!? Denken Sie über die Semantik von *break* nach"
   ]
  },
  {
   "cell_type": "code",
   "execution_count": null,
   "metadata": {},
   "outputs": [],
   "source": [
    "for x in range(3): # Schleife wird dreimal durchlaufen, dann kommt die Ausgabe aus dem *else-Zweig*\n",
    "    print (x)\n",
    "else:\n",
    "    print (\"Erste Schleife fertig.\")\n",
    "\n",
    "for x in range(0,20,-1): # Schleife wird nicht ausgeführt, man kann nicht von 0 bis 20 in -1er Schritten zählen\n",
    "    print (x)\n",
    "else:\n",
    "    print (\"Zweite Schleife fertig.\") # *else-Zweig* wird dennoch ausgeführt"
   ]
  },
  {
   "cell_type": "markdown",
   "metadata": {},
   "source": [
    "#### for-Schleife kombiniert mit if-Verzweigung"
   ]
  },
  {
   "cell_type": "markdown",
   "metadata": {},
   "source": [
    "for run_index in range(3):\n",
    "    print(\"Spieldurchlauf Nummer: \", run_index)\n",
    "    zahl_input = int(input(\"Gebe eine Zahl von 1-10 ein: \"))\n",
    "\n",
    "    #Wert auf Gleichheit überprüfen mit ==\n",
    "    #Wert zuweisen =\n",
    "    if zahl_input == 4:\n",
    "        print(\"Du hast gewonnen!\")\n",
    "    elif zahl_input == 5 or zahl_input == 3:\n",
    "        print(\"Knapp daneben!\")\n",
    "    else:\n",
    "        print(\"Du hast verloren!\")"
   ]
  },
  {
   "cell_type": "markdown",
   "metadata": {},
   "source": [
    "### while-Schleife\n",
    "* In Python gibt es auch eine kopfgesteuerte while-Schleife. Solange die Bedingung erfüllt ist wird der Schleifenrumpf weiterhin ausgeführt.\n",
    "* Fußgesteuerte do-while Schleifen gibt es in Python nicht."
   ]
  },
  {
   "cell_type": "code",
   "execution_count": null,
   "metadata": {},
   "outputs": [],
   "source": [
    "i = 10\n",
    "while i > 0:\n",
    "    print(i)\n",
    "    i -= 1     # Es gibt kein i++ und i-- in Python!\n",
    "               # see https://stackoverflow.com/questions/1485841/behaviour-of-increment-and-decrement-operators-in-python\n",
    "print(\"Prosit Neujahr!\")"
   ]
  },
  {
   "cell_type": "code",
   "execution_count": null,
   "metadata": {},
   "outputs": [],
   "source": [
    "# weiteres Beispiel mit while-Schleife\n",
    "gewonnen = False\n",
    "\n",
    "while gewonnen == False:\n",
    "    zahl_input = int(input(\"Gebe eine Zahl von 1-10 ein!\"))\n",
    "    if zahl_input == 4:\n",
    "        print(\"Du hast gewonnen!\")\n",
    "        gewonnen = True\n",
    "    elif zahl_input == 5 or zahl_input == 3:\n",
    "        print(\"Knapp daneben!\")\n",
    "    else:\n",
    "        print(\"Du hast verloren!\")\n",
    "\n",
    "print(\"Ende des Spiels.\")"
   ]
  }
 ],
 "metadata": {
  "kernelspec": {
   "display_name": "Python 3 (ipykernel)",
   "language": "python",
   "name": "python3"
  },
  "language_info": {
   "codemirror_mode": {
    "name": "ipython",
    "version": 3
   },
   "file_extension": ".py",
   "mimetype": "text/x-python",
   "name": "python",
   "nbconvert_exporter": "python",
   "pygments_lexer": "ipython3",
   "version": "3.9.7"
  }
 },
 "nbformat": 4,
 "nbformat_minor": 4
}
