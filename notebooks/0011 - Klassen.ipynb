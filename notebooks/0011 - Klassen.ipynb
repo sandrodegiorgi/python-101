{
 "cells": [
  {
   "cell_type": "markdown",
   "metadata": {},
   "source": [
    "# Klassen und Objekte\n",
    "\n",
    "#### siehe\n",
    "* https://www.python-kurs.eu/python3_klassen.php\n",
    "* https://www.w3schools.com/python/python_classes.asp\n",
    "\n",
    "### Ein erstes Beispiel"
   ]
  },
  {
   "cell_type": "code",
   "execution_count": null,
   "metadata": {},
   "outputs": [],
   "source": [
    "class Roboter:\n",
    "    def sayHello(self):\n",
    "        print(\"Hello i am a \" + self.typ)\n",
    "    def setTyp(self,typ):\n",
    "        self.typ = typ"
   ]
  },
  {
   "cell_type": "markdown",
   "metadata": {},
   "source": [
    "Python besitzt keinen expliziten Konstruktor (bzw. Destruktur) wie man dies von Java oder C++ kennt.   \n",
    "Der eigentliche Konstruktor wird implizit von Python gestartet.  \n",
    "Sobald einer Instanz-Variable mit `self.name = value` ein Wert zugewiesen wird, steht diese innerhalb der kompletten Klasse zur Verfügung.   \n",
    "Jede Funktion innerhalb einer Klasse benötigt als ersten Parameter eine Referenz auf sich selbst. Diese wird in Python mit dem Schlüsselwort `self` gekennzeichnet. \n",
    "Hierdurch wird der Zugriff auf alle Instanz-Variablen und Funktionen innerhalb der Klasse gewährleistet."
   ]
  },
  {
   "cell_type": "code",
   "execution_count": null,
   "metadata": {},
   "outputs": [],
   "source": [
    "robby = Roboter()\n",
    "robby.setTyp(\"mobil Robot\")\n",
    "robby.sayHello()"
   ]
  },
  {
   "cell_type": "markdown",
   "metadata": {},
   "source": [
    "Python legt zur Laufzeit den Datentyp von Variablen und Objekten fest. Deshalb darf der Klassenname nicht vor den Objektnamen geschrieben werden.  \n",
    "Analog zu anderen Programmiersprachen erfolgt der Konstruktoraufruf über den Klassennamen (ohne new)."
   ]
  },
  {
   "cell_type": "code",
   "execution_count": null,
   "metadata": {},
   "outputs": [],
   "source": [
    "import math\n",
    "class Kreis:\n",
    "    def __init__(self,radius):\n",
    "        self.radius = radius\n",
    "    def berechneFlaeche(self):\n",
    "        return math.pi * self.radius**2\n",
    "    def berechneUmfang(self):\n",
    "        return 2.0 * math.pi * self.radius\n",
    "    def __str__(self):\n",
    "        return self.__class__.__name__ + \" r= \" + str(self.radius) + \" a= \" + \\\n",
    "            str(self.berechneFlaeche()) + \" u= \" + str(self.berechneUmfang())"
   ]
  },
  {
   "cell_type": "markdown",
   "metadata": {},
   "source": [
    "`__init__()` gehört zu den sogenannten magischen Funktionen, die unmittelbar und automatisch nach dem Erzeugen einer Instanz aufgerufen wird. \n",
    "Hierüber können die Instanzvariablen angelegt und initialisiert werden. Der Name ist festgelegt und kann nicht frei gewählt werden. \n",
    "\n",
    "Python unterstützt zwar auch das OOP Konzept der Kapselung. Dieses Konzept wird jedoch im KI Umfeld in Python bei weitem nicht so restriktiv wie bei anderen objektorientierten Programmiersprachen gehandhabt.\n",
    "Wollen Sie Attribute und Funktionen nur innerhalb der Klasse nutzen so  müssen diese durch vorangestellte `__` gekennzeichnet werden.  \n",
    "\n",
    "Bei Java sollten die Programmierer in jeder Klasse die *toString()*-Methode sinnvoll überschreiben. \n",
    "Diese liefert einen Stringdarstellung des Objektes zurück.\n",
    "Bei der Typconvertierung haben wir bereits die Funktion *str(numberValue)* kennen gelernt. Diese Funktion liefert passend zum Zahlenwert einen String. \n",
    "Soll nun ein beliebiges Objekt auch in Python bei Aufruf von *str(objektName)* einen String liefern, so muss die magische Funktion `__str__(self)` in der Klasse überschrieben werden."
   ]
  },
  {
   "cell_type": "code",
   "execution_count": 74,
   "metadata": {},
   "outputs": [
    {
     "name": "stdout",
     "output_type": "stream",
     "text": [
      "314.1592653589793\n",
      "Kreis r= 10.0 a= 314.1592653589793 u= 62.83185307179586\n",
      "Kreis r= 20.0 a= 1256.6370614359173 u= 125.66370614359172\n",
      "Kreis r= 20.0 a= 1256.6370614359173 u= 125.66370614359172\n"
     ]
    }
   ],
   "source": [
    "k = Kreis(10.0);\n",
    "print(k.berechneFlaeche())\n",
    "print(str(k))\n",
    "\n",
    "k.radius = 20.0\n",
    "print(k)          # impliziter Aufruf von str(k)"
   ]
  }
 ],
 "metadata": {
  "kernelspec": {
   "display_name": "Python 3 (ipykernel)",
   "language": "python",
   "name": "python3"
  },
  "language_info": {
   "codemirror_mode": {
    "name": "ipython",
    "version": 3
   },
   "file_extension": ".py",
   "mimetype": "text/x-python",
   "name": "python",
   "nbconvert_exporter": "python",
   "pygments_lexer": "ipython3",
   "version": "3.9.7"
  }
 },
 "nbformat": 4,
 "nbformat_minor": 4
}
