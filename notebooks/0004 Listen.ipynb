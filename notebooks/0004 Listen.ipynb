{
 "cells": [
  {
   "cell_type": "markdown",
   "metadata": {},
   "source": [
    "# Listen, Tupel und `List Comprehensions`"
   ]
  },
  {
   "cell_type": "markdown",
   "metadata": {},
   "source": [
    "## Listen\n",
    "In Python ist die **Liste** eine der ***wichtigsten*** und meistverwendeten Datenstrukturen. Wegen der Verwendung eckiger Klammern erinnert sie an Java-Arrays, entspricht in der Implementierung aber eher Javas *ArrayList*. Listen können beliebig wachsen und schrumpfen, sind aber so implementiert, dass sie trotzdem die **hervorragenden** Laufzeiteigenschaften von Arrays haben (promised!)."
   ]
  },
  {
   "cell_type": "code",
   "execution_count": null,
   "metadata": {},
   "outputs": [],
   "source": [
    "# Liste von Integern\n",
    "zahlenliste = [2, 3, 5, 7, 11, 13]\n",
    "# Liste von Strings\n",
    "#String[] namensliste = new String[20000];\n",
    "namensliste = [\"Anna\", \"Berta\", \"Carla\", \"Doris\", \"Emilia\", \"Franziska\", \"Gabi\", \"Hannah\", \"Iris\"]\n",
    "# Liste mit Einträgen unterschiedlicher Datentypen, wäre das möglich in Java?\n",
    "gemischte_liste = [\"Harry\", 12, \"Albus\", 115, \"Nicolas\", 665]\n",
    "# verschachtelte Liste\n",
    "verschachtelte_liste = [[\"Dudley\", 13, [\"Privet Drive\", 4]], [\"Albus\", 115, [\"Hogwarts\"]]]\n",
    "# Bsp. für einen Baumstruktur mit Listen: \n",
    "# oft ist es allerdings noch geschickter, für solche Strukturen ein *dictionary* zu verwenden (s. dort).\n",
    "stammbaum = [\"Oma\", [\"Tochter 1\", [\"Enkelin 1\", \"Enkelin 2\"], \"Tochter 2\", [\"Enkelin 3\", [\"Urenkelin 1\"]]]]"
   ]
  },
  {
   "cell_type": "code",
   "execution_count": null,
   "metadata": {},
   "outputs": [],
   "source": [
    "zahlenliste[0]"
   ]
  },
  {
   "cell_type": "code",
   "execution_count": null,
   "metadata": {},
   "outputs": [],
   "source": [
    "zahlenliste[0] = 42\n",
    "zahlenliste"
   ]
  },
  {
   "cell_type": "code",
   "execution_count": null,
   "metadata": {},
   "outputs": [],
   "source": [
    "namensliste[3]"
   ]
  },
  {
   "cell_type": "code",
   "execution_count": null,
   "metadata": {},
   "outputs": [],
   "source": [
    "len(namensliste)"
   ]
  },
  {
   "cell_type": "code",
   "execution_count": null,
   "metadata": {},
   "outputs": [],
   "source": [
    "print(namensliste)\n",
    "namensliste.append(\"Johanna\")   # ein neues Element anfügen\n",
    "#namensliste.extend(zahlenliste)   # eine andere Liste anhängen\n",
    "namensliste"
   ]
  },
  {
   "cell_type": "code",
   "execution_count": null,
   "metadata": {},
   "outputs": [],
   "source": [
    "namensliste.append(\"Gina\")   # Oh, jetzt haben wir ja zwei Namen mit \"G\" - also entfernen wir einen wieder!\n",
    "namensliste.remove(\"Gabi\")   # aber die alphabetische Reihenfolge ist dahin... Was tun?\n",
    "print(namensliste)\n",
    "namensliste[4] = \"killswitch\"\n",
    "#namensliste\n",
    "namensliste.remove(\"killswitch\")        # idx not found?\n",
    "namensliste.sort()           # ...und fertig sortiert!\n",
    "namensliste"
   ]
  },
  {
   "cell_type": "markdown",
   "metadata": {},
   "source": [
    "### List Slicing\n",
    "#### siehe auch\n",
    "* https://stackoverflow.com/questions/509211/understanding-slice-notation\n",
    "\n",
    "Ich hoffe, Sie werden nun so gaaanz langsam anfangen zu staunen und vielleicht auch etwas Feuer zu fangen. Der Umgang mit Listen, Teillisten sowie der Zugriff auf solche `slices` ist sehr elegant. "
   ]
  },
  {
   "cell_type": "code",
   "execution_count": null,
   "metadata": {},
   "outputs": [],
   "source": [
    "# Wie kommt man an das letzte Element? In den meisten anderen Sprachen müsste man schreiben:\n",
    "# etwas schreiben wie: namensliste[len(namensliste)-1] \n",
    "# In Python geht das viel einfacher:\n",
    "print(namensliste)\n",
    "namensliste[-3]  "
   ]
  },
  {
   "cell_type": "code",
   "execution_count": null,
   "metadata": {},
   "outputs": [],
   "source": [
    "# Slicing: liefert einen \"Ausschnitt\" (Teilliste).\n",
    "# Liste[Start(inkl):Ende(exkl):Schrittweite(default=1)]  \n",
    "#namensliste[1:4]\n",
    "namensliste[1:3] + namensliste[3:5] # Konkatenation zweier Teillisten/slices\n",
    "#namensliste[1:3].extend(namensliste[3:5]) # reference vs value vs copy\n"
   ]
  },
  {
   "cell_type": "code",
   "execution_count": null,
   "metadata": {},
   "outputs": [],
   "source": [
    "namensliste[0:7:2]  # Schrittweite 2, d.h. nur Element 0, 2, 4, 6"
   ]
  },
  {
   "cell_type": "code",
   "execution_count": null,
   "metadata": {},
   "outputs": [],
   "source": [
    "# Start- und Endindex fehlen => ganze Liste, Schrittweite 2\n",
    "#namensliste[::1]\n",
    "namensliste"
   ]
  },
  {
   "cell_type": "code",
   "execution_count": null,
   "metadata": {},
   "outputs": [],
   "source": [
    "# Start beim drittletzten Element, Endindex nicht angegeben, rückwärts (Schrittweite -1)\n",
    "namensliste[-3::-1]"
   ]
  },
  {
   "cell_type": "markdown",
   "metadata": {},
   "source": [
    "Listen können u.a. selbst auch Listen enthalten:"
   ]
  },
  {
   "cell_type": "code",
   "execution_count": null,
   "metadata": {},
   "outputs": [],
   "source": [
    "verschachtelt = [[0, 1], [2, 3], [4, 5], [6, 7]]\n",
    "# CAVE: index innerhalb der Liste, wie \"gewohnt\", zero-based\n",
    "verschachtelt[2][1]"
   ]
  },
  {
   "cell_type": "markdown",
   "metadata": {},
   "source": [
    "### Über Listen iterieren (i.e. die einzelnen Elemente, z.B. mit einer Schleife, verarbeiten)"
   ]
  },
  {
   "cell_type": "markdown",
   "metadata": {},
   "source": [
    "#### Die for-Schleife"
   ]
  },
  {
   "cell_type": "markdown",
   "metadata": {},
   "source": [
    "Über alle Elemente einer Liste zu iterieren ist in Python denkbar einfach:"
   ]
  },
  {
   "cell_type": "code",
   "execution_count": null,
   "metadata": {},
   "outputs": [],
   "source": [
    "for name in namensliste: # erweiterte for-Schleife, sozusagen eine foreach\n",
    "    print(\"Hallo\", name)"
   ]
  },
  {
   "cell_type": "markdown",
   "metadata": {},
   "source": [
    "#### enumerate()"
   ]
  },
  {
   "cell_type": "markdown",
   "metadata": {},
   "source": [
    "Manchmal benötigt man nicht nur die Elemente selbst, sondern auch ihren Index, d.h. ihre Position bzw. ihren Index innerhalb der Liste. Man könnte eine klassische \"Zählschleife\" verwenden... Aber Python hat auch hierfür eine elegante Lösung in Petto."
   ]
  },
  {
   "cell_type": "code",
   "execution_count": null,
   "metadata": {},
   "outputs": [],
   "source": [
    "# kann man so machen... funktioniert\n",
    "for i in range(len(namensliste)): \n",
    "    print(namensliste[i], end=\" \")\n"
   ]
  },
  {
   "cell_type": "markdown",
   "metadata": {},
   "source": [
    "**Viel** eleganter ist es, die Funktion `enumerate()` zu nutzen. Diese erzeugt aus einer Liste von Werten *Paare* der Form (Index, Wert):"
   ]
  },
  {
   "cell_type": "code",
   "execution_count": null,
   "metadata": {},
   "outputs": [],
   "source": [
    "# Let the games begin...\n",
    "# enumerate \"nummeriert\" die Werte durch und gibt zwei Rückgaben, die in i und name verarbeitet werden können\n",
    "for (i, name) in enumerate(namensliste):\n",
    "    print(f\"{name} steht an Position {i} der Liste, d.h. sie ist das {i+1}. Element.\")"
   ]
  },
  {
   "cell_type": "markdown",
   "metadata": {},
   "source": [
    "#### zip()"
   ]
  },
  {
   "cell_type": "markdown",
   "metadata": {},
   "source": [
    "Und weiter im Zweikampf... :)\n",
    "\n",
    "Wie geht man vor, wenn man \"parallel\" über zwei Listen iterieren will?\n",
    "\n",
    "Im folgenden Beispiel soll der vollständige Name jeder Person ausgegeben werden. Allerdings sind die Vor- und Nachnamen in zwei *separaten* Listen gespeichert. Auch hier könnte man mit einer Zählschleife bzw. Hilfsvariablen einen Index mitführen und damit auf die beiden Listen zugreifen. Man könnte natürlich auch mit enumerate() über eine Liste iterieren und den Index daraus für den Zugriff auf die zweite Liste nutzen. \n",
    "\n",
    "*Oder*, man nimmt Python... :) Die Funktion `zip()`, die - wie ein Reißverschluss (engl. zipper) - \"verhakt\" die Elemente beider Listen paarweise ineinander:"
   ]
  },
  {
   "cell_type": "code",
   "execution_count": null,
   "metadata": {},
   "outputs": [],
   "source": [
    "vornamen = [\"Anna\", \"Berta\", \"Carla\"]\n",
    "nachnamen = [\"Adler\", \"Bär\", \"Chamäleon\"]\n",
    "\n",
    "#for vn, nn in zip(vornamen, nachnamen):   # erzeugt (\"Anna\", \"Adler\"), (\"Berta\", \"Bär\") usw.\n",
    "#    print(vn, nn)"
   ]
  },
  {
   "cell_type": "code",
   "execution_count": null,
   "metadata": {},
   "outputs": [],
   "source": [
    "for i in range(len(vornamen)):\n",
    "    print(vornamen[i], nachnamen[i])\n",
    "    \n",
    "for (i, vorname) in enumerate(vornamen):\n",
    "    print(vorname, nachnamen[i])\n",
    "\n",
    "print(list(zip(vornamen, nachnamen)))\n",
    "    \n",
    "for (vn, nn) in zip(vornamen, nachnamen):   # erzeugt (\"Anna\", \"Adler\"), (\"Berta\", \"Bär\") usw.\n",
    "    print(vn, nn)"
   ]
  },
  {
   "cell_type": "code",
   "execution_count": null,
   "metadata": {},
   "outputs": [],
   "source": [
    "# Die Elemente der beiden Listen sollen paarweise addiert werden zu [11, 22, 33, 44, 55] (ebenfalls einer Liste)\n",
    "zahlen1 = [1, 2, 3, 4, 5]\n",
    "zahlen2 = [10, 20, 30, 40, 50]\n",
    "\n",
    "# möglich:\n",
    "\"\"\"\n",
    "for i in range(len(zahlen1)):\n",
    "    z1 = zahlen1[i]\n",
    "    z2 = zahlen2[i]\n",
    "    print(z1+z2)\n",
    "\"\"\"\n",
    "\n",
    "# Python:\n",
    "for (z1, z2) in zip(zahlen1, zahlen2):\n",
    "    print(z1+z2)\n",
    "    \n",
    "# wenn als Ergebnis eine Liste gefordert ist:\n",
    "resList = []\n",
    "for z1, z2 in zip(zahlen1, zahlen2):\n",
    "    resList.append(z1+z2)\n",
    "\n",
    "resList"
   ]
  },
  {
   "cell_type": "markdown",
   "metadata": {},
   "source": [
    "## Tupel\n",
    "Auch **Tupel** werden in Python häufig verwendet. Ein Tupel repräsentiert meist einem  **Datensatz** mit *fester* Länge und mit Werten potentiell unterschiedlicher Datentypen.\n",
    "\n",
    "Bsp. `produkt = (\"Tesla\", \"Model X\", 100000)`\n",
    "\n",
    "Tupel ähneln Listen; die meisten üblichen Listenoperationen sind auch mit Tupeln möglich. Tupel werden aber mit *runden* statt mit eckigen Klammern ausgezeichnet.\n",
    "\n",
    "Wichtige Eigenschaften von Tupeln:\n",
    "* unveränderlich (immutable)\n",
    "* insb. kann auch kein Wert hinzugefügt oder gelöscht werden\n",
    "* unterschiedliche Datentypen möglich (geht bei Listen natürlich auch)"
   ]
  },
  {
   "cell_type": "code",
   "execution_count": null,
   "metadata": {},
   "outputs": [],
   "source": [
    "person1 = (\"Harry\", \"Potter\", 11)\n",
    "person2 = (\"Hermione\", \"Granger\", 11)\n",
    "person3 = (\"Nicolas\", \"Flamel\", 690)"
   ]
  },
  {
   "cell_type": "code",
   "execution_count": null,
   "metadata": {},
   "outputs": [],
   "source": [
    "# Zugriff auf Einzelwerte wie bei Liste/Array über Index.  \n",
    "person1[0]    \n",
    "# Alternativ: namedtuple oder dataclass (ab 3.7)\n",
    "# person1[0] = \"James\"   # das ist verboten! immutable!\n",
    "test = []\n",
    "test.append(person1)\n",
    "for ding in person1:\n",
    "    test.append(ding)\n",
    "test # convert tuple to list ??? commodity / built in\n",
    "test[1] = \"James\"\n",
    "test"
   ]
  },
  {
   "cell_type": "code",
   "execution_count": null,
   "metadata": {},
   "outputs": [],
   "source": [
    "tup = 1, 2, 3   # Klammern können auch weggelassen werden\n",
    "type(tup)"
   ]
  },
  {
   "cell_type": "code",
   "execution_count": null,
   "metadata": {},
   "outputs": [],
   "source": [
    "# Destrukturierung: Tupel wird in Einzelteile zerlegt und verschiedenen Variablen zugewiesen\n",
    "#(z1, z2, z3) = (32, 17, -4) \n",
    "z1, z2, z3 = (32, 17, -4) \n",
    "print(z1, z2, z3)\n",
    "vorname, nachname, alter = person1   \n",
    "print(vorname, alter)"
   ]
  },
  {
   "cell_type": "code",
   "execution_count": null,
   "metadata": {},
   "outputs": [],
   "source": [
    "a = 1\n",
    "b = 2\n",
    "\n",
    "#a, b = b, a        # Hilfsvariablen werden überbewertet. Naja, der Trick ist, es wird ein neues Tupel erzeugt\n",
    "(a, b) = (b, a)   # \"man\" sieht es nur nicht, da die runden Klammern weggelassen sind :)\n",
    "print(a, b)"
   ]
  },
  {
   "cell_type": "code",
   "execution_count": null,
   "metadata": {},
   "outputs": [],
   "source": [
    "for wert in person1:   # Schleife über die Elemente des Tupels, analog zu den Einträgen einer Liste\n",
    "    print(wert)"
   ]
  },
  {
   "cell_type": "code",
   "execution_count": null,
   "metadata": {},
   "outputs": [],
   "source": [
    "personen = [person1, person2, person3]     # Kong-Foo ante portas => Liste von Tupeln\n",
    "for person in personen:\n",
    "    for wert in person:\n",
    "        print(wert)"
   ]
  },
  {
   "cell_type": "markdown",
   "metadata": {},
   "source": [
    "## PAUSE!! \n",
    "### Wirklich... Was jetzt kommt braucht einen entspannten Kopf! Es wird noch einen Takken \"magischer\" :)"
   ]
  },
  {
   "cell_type": "markdown",
   "metadata": {},
   "source": [
    "### List comprehension (etwa: Listenabstraktion)\n",
    "Eine der wesentlichen Aufgaben des Computers ist die Daten**v**erarbeitung: Datenmengen werden untersucht, Teile ausgewählt, vearbeitet und wieder zurückgeliefert oder angepasst. In den meisten Programmiersprachen wird dazu meist in  einer Schleife über eine Liste/Array iteriert, entlang Bedingungen (if) eine Auswahl getroffen und (evtl. veränderte) Daten in einer neuen Datenstruktur gespeichert. Oft ist der Zweck dieses mehrstufigen Verfahrens, z.B. im Vergleich zu einer SQL-Abfrage, nur schwer zu erkennen.\n",
    "\n",
    "#### Siehe auch\n",
    "* https://towardsdatascience.com/python-basics-list-comprehensions-631278f22c40\n",
    "\n",
    "Python bietet mit *list comprehensions* eine sehr kompakte Darstellung solcher Auswahl- und Transformationsprozesse. CAVE: Zuerst scheint diese Darstellung *schwer lesbar* - das legt sich aber, promised! Sehr bald werden Sie die Kompaktheit und Eleganz dieser Darstellung zu schätzen wissen.\n",
    "\n",
    "Die List comprehension ist an die mathematische Mengenschreibweise (beschreibende Form, erinnern Sie sich? :>) angelehnt. So beschreibt beispielsweise der Ausdruck $ C=\\{ x | x = b^2 \\land 10 \\leq b < 20, b \\in \\mathbb{N} \\} $ die Menge $C$ der Quadratzahlen aller natürlichen Zahlen zwischen 10 und 20 (10 inklusive, 20 exklusive). \n",
    "\n",
    "Man könnte also schreiben (Ergebnis als Liste):"
   ]
  },
  {
   "cell_type": "code",
   "execution_count": null,
   "metadata": {},
   "outputs": [],
   "source": [
    "quadrate = []\n",
    "for b in range(10,20):\n",
    "    quadrate.append(b**2)\n",
    "    \n",
    "quadrate"
   ]
  },
  {
   "cell_type": "markdown",
   "metadata": {},
   "source": [
    "Nun mit **list comprehension**:"
   ]
  },
  {
   "cell_type": "code",
   "execution_count": null,
   "metadata": {},
   "outputs": [],
   "source": [
    "quadrate = [b**2 for b in range(10, 20)]\n",
    "\n",
    "quadrate # voila!"
   ]
  },
  {
   "cell_type": "markdown",
   "metadata": {},
   "source": [
    "Die Listennotation mit [eckigen Klammern] wird also nicht nur verwendet, um Elemente explizit aufzuzählen, sondern auch um Listen aus anderen Werten, List-Elementen, ... zu *berechnen* bzw. diese *auszuwählen*.\n",
    "\n",
    "Syntax: `[Berechnung for Variable in Liste if Bedingung]`"
   ]
  },
  {
   "cell_type": "markdown",
   "metadata": {},
   "source": [
    "Vergleiche Sie nochmals die Lösungsansätze \"traditionell\" und mit \"list comprehension\".\n",
    "\n",
    "Aufgabe:\n",
    "Geben Sie in GROSSBUCHSTABEN alle Namen aus einer Liste *namensliste* aus, die mindestens fünf Zeichen lang sind."
   ]
  },
  {
   "cell_type": "code",
   "execution_count": null,
   "metadata": {},
   "outputs": [],
   "source": [
    "# namensliste von oben\n",
    "namensliste = [\"edgar\",\"samir\",\"san\",\"robinho\",\"leon\",\"siberxxxxxxx\"]\n",
    "\n",
    "\n",
    "\n",
    "\n",
    "# mit Schleife:\n",
    "#namen_neu = []\n",
    "#for name in namensliste:\n",
    "#    if len(name) > 4:\n",
    "#        namen_neu.append(name.upper())\n",
    "#print(namen_neu)\n",
    "\n",
    "# mit list comprehension:\n",
    "namen_neu = [name.upper() for name in namensliste if len(name) > 4]\n",
    "print(namen_neu)"
   ]
  },
  {
   "cell_type": "markdown",
   "metadata": {},
   "source": [
    "#### Und das, meine lieben Freunde der gepflegten Informatik, war noch lange nicht alles. Sie sollten bis hierher zumindest ein klitzekleines Gefühl für Listen und Tupels haben und schonmal was von *list comprehensions* gehört haben, im besten Falle solche decodieren/lesen können!"
   ]
  }
 ],
 "metadata": {
  "kernelspec": {
   "display_name": "Python 3 (ipykernel)",
   "language": "python",
   "name": "python3"
  },
  "language_info": {
   "codemirror_mode": {
    "name": "ipython",
    "version": 3
   },
   "file_extension": ".py",
   "mimetype": "text/x-python",
   "name": "python",
   "nbconvert_exporter": "python",
   "pygments_lexer": "ipython3",
   "version": "3.9.7"
  }
 },
 "nbformat": 4,
 "nbformat_minor": 4
}
