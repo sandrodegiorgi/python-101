{
 "cells": [
  {
   "cell_type": "markdown",
   "metadata": {},
   "source": [
    "# Übungen: Mengen"
   ]
  },
  {
   "cell_type": "markdown",
   "metadata": {},
   "source": [
    "##### Aufgabe 1\n",
    "Gib folgende Mengen an:\n",
    "1. die Menge aller geraden Zahlen kleiner 100\n",
    "2. die Menge aller durch 3 teilbaren Zahlen kleiner 100\n",
    "3. die Menge aller Zahlen, die beide oben genannten Eigenschaften haben\n",
    "4. die Menge aller Zahlen, die mind. eine der oben genannten Eigenschaften haben\n",
    "5. die Menge aller Zahlen, die genau eine der oben genannten Eigenschaften haben"
   ]
  },
  {
   "cell_type": "code",
   "execution_count": null,
   "metadata": {},
   "outputs": [],
   "source": [
    "# Lösung 1.1\n"
   ]
  },
  {
   "cell_type": "code",
   "execution_count": null,
   "metadata": {},
   "outputs": [],
   "source": [
    "# Lösung 1.2\n"
   ]
  },
  {
   "cell_type": "code",
   "execution_count": null,
   "metadata": {},
   "outputs": [],
   "source": [
    "# Lösung 1.3\n"
   ]
  },
  {
   "cell_type": "code",
   "execution_count": null,
   "metadata": {},
   "outputs": [],
   "source": [
    "# Lösung 1.4\n"
   ]
  },
  {
   "cell_type": "code",
   "execution_count": null,
   "metadata": {},
   "outputs": [],
   "source": [
    "# Lösung 1.5\n"
   ]
  },
  {
   "cell_type": "markdown",
   "metadata": {},
   "source": [
    "##### Aufgabe 2\n",
    "Implementiere folgendes Würfelspiel für einen Spieler: Man darf so lange würfeln, bis sich zum ersten Mal eine Zahl wiederholt. Die gewürfelten Zahlen werden addiert und am Ende ausgegeben.  Beispielablauf:\n",
    "\n",
    "*6 <br> \n",
    "5  <br>\n",
    "2  <br>\n",
    "1  <br>\n",
    "4  <br>\n",
    "1  <br>\n",
    "Du hast zum zweiten Mal eine 1 gewürfelt. Deine Endsumme: 19*"
   ]
  },
  {
   "cell_type": "code",
   "execution_count": null,
   "metadata": {},
   "outputs": [],
   "source": [
    "from random import randint\n",
    "WUERFEL_MAX = 6   # so viele Seiten hat der Würfel\n",
    "\n",
    "# Lösung:\n"
   ]
  },
  {
   "cell_type": "markdown",
   "metadata": {},
   "source": [
    "##### Aufgabe 3\n",
    "Auf einem leeren Schachbrett steht ein *Turm* auf dem Feld `pos`, z.B. \"C4\". Bestimme alle Felder, auf die der Turm ziehen kann."
   ]
  },
  {
   "cell_type": "code",
   "execution_count": null,
   "metadata": {},
   "outputs": [],
   "source": [
    "pos = \"C4\"\n",
    "\n",
    "# Lösung:\n"
   ]
  },
  {
   "cell_type": "markdown",
   "metadata": {},
   "source": [
    "##### Aufgabe 4\n",
    "Auf einem ansonsten leeren Schachbrett stehen ein Turm und ein gegnerischer Bauer.\n",
    "\n",
    "1. Platziere die beiden Figuren zufällig auf dem Brett\n",
    "2. Prüfe, ob der Turm den Bauern schlagen kann."
   ]
  },
  {
   "cell_type": "code",
   "execution_count": null,
   "metadata": {},
   "outputs": [],
   "source": [
    "#Lösung:\n"
   ]
  }
 ],
 "metadata": {
  "kernelspec": {
   "display_name": "Python 3 (ipykernel)",
   "language": "python",
   "name": "python3"
  },
  "language_info": {
   "codemirror_mode": {
    "name": "ipython",
    "version": 3
   },
   "file_extension": ".py",
   "mimetype": "text/x-python",
   "name": "python",
   "nbconvert_exporter": "python",
   "pygments_lexer": "ipython3",
   "version": "3.9.7"
  }
 },
 "nbformat": 4,
 "nbformat_minor": 4
}
