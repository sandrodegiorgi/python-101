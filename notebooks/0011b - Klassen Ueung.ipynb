{
 "cells": [
  {
   "cell_type": "markdown",
   "metadata": {},
   "source": [
    "### Übung zu Klassen und Objekte\n",
    "Ergänzen und Testen Sie die Klasse ListStatistik."
   ]
  },
  {
   "cell_type": "code",
   "execution_count": null,
   "metadata": {},
   "outputs": [],
   "source": [
    "class ListStatistik:\n",
    "    \n",
    "    # Die __init__-Methode nimmt eine Liste von Zahlen entgegen.\n",
    "    def __init__(self, data_list):\n",
    "        pass\n",
    "    \n",
    "    # ermittelt den größten Wert aus der Liste    \n",
    "    def list_max(self):\n",
    "        pass\n",
    "    \n",
    "    # ermittelt den kleinsten Wert aus der Liste\n",
    "    def list_min(self):\n",
    "        pass\n",
    "    \n",
    "    # ermittelt die Summe aller Elemente aus der Liste\n",
    "    def list_sum(self):\n",
    "        pass\n",
    "    \n",
    "    # ermittelt den Mittelwert aller Elemente aus der Liste\n",
    "    def list_mean(self):\n",
    "        pass\n",
    "    \n",
    "    # ermittelt den Median aller Elemente aus der Liste\n",
    "    # D.h. Alle Werte werden der Größe nach sortiert.\n",
    "    # Bei ungerader Anzahl von Elementen wird das mittlere aller Elemente zurück gegeben\n",
    "    # Bei gerader Anzahl von Elementen wird der Mittelwert der beiden mittleren Elemente zurück gegeben.\n",
    "    def list_median(self):\n",
    "        pass"
   ]
  },
  {
   "cell_type": "code",
   "execution_count": null,
   "metadata": {},
   "outputs": [],
   "source": [
    "numbers = [1, 12, -5, -23, 19,7]\n",
    "print(numbers)                      # [1, 12, -5, -23, 19, 7]\n",
    "numbers_sorted = numbers.copy()     # Kopie mit allen Elementen\n",
    "numbers_sorted.sort()\n",
    "print(numbers_sorted)               # [-23, -5, 1, 7, 12, 19]\n",
    "\n",
    "ls = ListStatistik(numbers)\n",
    "print(\"Max: \", ls.list_max())       # Max:  19\n",
    "print(\"Min: \", ls.list_min())       # Min:  -23\n",
    "print(\"Sum: \", ls.list_sum())       # Sum:  11\n",
    "print(\"Mean: \", ls.list_mean())     # Mean:  1.8333333333333333\n",
    "print(\"Median: \", ls.list_median()) # Median:  4.0"
   ]
  }
 ],
 "metadata": {
  "kernelspec": {
   "display_name": "Python 3 (ipykernel)",
   "language": "python",
   "name": "python3"
  },
  "language_info": {
   "codemirror_mode": {
    "name": "ipython",
    "version": 3
   },
   "file_extension": ".py",
   "mimetype": "text/x-python",
   "name": "python",
   "nbconvert_exporter": "python",
   "pygments_lexer": "ipython3",
   "version": "3.9.7"
  }
 },
 "nbformat": 4,
 "nbformat_minor": 4
}
