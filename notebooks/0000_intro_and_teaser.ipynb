{
 "cells": [
  {
   "cell_type": "markdown",
   "metadata": {},
   "source": [
    "# Python is sexy (don't tell my wife)\n",
    "(with or without a monty!)"
   ]
  },
  {
   "cell_type": "markdown",
   "metadata": {},
   "source": [
    "## Hello world"
   ]
  },
  {
   "cell_type": "code",
   "execution_count": null,
   "metadata": {},
   "outputs": [],
   "source": [
    "print(\"Hello World!\")\n",
    "print(\"Hello\", \"World!\", sep=\">>><<<\", end=\"Hallaballooza\")"
   ]
  },
  {
   "cell_type": "markdown",
   "metadata": {},
   "source": [
    "## Variables and a little typing"
   ]
  },
  {
   "cell_type": "code",
   "execution_count": null,
   "metadata": {},
   "outputs": [],
   "source": [
    "a,b = 100,100\n",
    "hello = \"WELCOME\"\n",
    "c = 23.0\n",
    "d = 3+2j\n",
    "print(c, type(c))\n",
    "print(d, type(d))\n",
    "print(a/b, type(a/b))\n",
    "print(int(a/b), type(int(a/b)))"
   ]
  },
  {
   "cell_type": "markdown",
   "metadata": {},
   "source": [
    "## Lists"
   ]
  },
  {
   "cell_type": "code",
   "execution_count": null,
   "metadata": {},
   "outputs": [],
   "source": [
    "numbers = [2, 3, 5, 7, 11, 13]\n",
    "mixed = [\"Harry\", 12, \"Albus\", 115, \"Nico\", 665]\n",
    "mccoy = [\"Leonard McCoy\", numbers, \"Chief Medical Officer\", 2266]\n",
    "nested = [[\"Dudley\", 13, [\"Privet Drive\", 4]], \n",
    "    [\"Albus\", 115, [\"Hogwarts\"]]]\n",
    "tree = [\"Grandma\", [\"Daughter 1\", [\"GChild 1\", \"Gchild 2\"], \n",
    "    \"Daughter 2\", [\"GChild 3\", [\"GGChild 1\"]]]]\n",
    "\n",
    "# print(...[...])"
   ]
  },
  {
   "cell_type": "markdown",
   "metadata": {},
   "source": [
    "## Dictionaries"
   ]
  },
  {
   "cell_type": "code",
   "execution_count": null,
   "metadata": {},
   "outputs": [],
   "source": [
    "d = { \n",
    "    \"miu\": \"babygirl\",\n",
    "    \"paule\": \"schwurbel\",\n",
    "    \"boni\": \"blacky\",\n",
    "    \"bimfi\": \"smallboss\",\n",
    "    \"socke\": \"bigboss\"\n",
    "} \n",
    "print([f\"{d[name]} {name}\" for name in \n",
    "    [\"paule\", \"boni\", \"bimfi\", \"socke\"]\n",
    "    if name in d])"
   ]
  },
  {
   "cell_type": "markdown",
   "metadata": {},
   "source": [
    "## Sets"
   ]
  },
  {
   "cell_type": "code",
   "execution_count": null,
   "metadata": {},
   "outputs": [],
   "source": [
    "friends = {\"Lilly\", \"Tom\", \"Ann\", \"Pete\", \"Tim\", \"Sandra\"}\n",
    "fellow_students = {\"Lilly\", \"Theo\", \"Ann\", \"Zara\", \"Tom\", \n",
    "    \"Mike\", \"The weird Italian\"}\n",
    "\n",
    "print(friends | fellow_students) # union\n",
    "print(friends & fellow_students) # cut\n",
    "print(friends - fellow_students) # difference\n",
    "print(fellow_students - friends) # difference"
   ]
  },
  {
   "cell_type": "code",
   "execution_count": null,
   "metadata": {},
   "outputs": [],
   "source": [
    "# there are also set comprehensions, like\n",
    "print({ name for name in friends | fellow_students \n",
    "    if name.startswith('T') })"
   ]
  },
  {
   "cell_type": "markdown",
   "metadata": {},
   "source": [
    "## User input"
   ]
  },
  {
   "cell_type": "code",
   "execution_count": null,
   "metadata": {},
   "outputs": [],
   "source": [
    "user_input = input(\"Gimme something: \")\n",
    "print(type(user_input), user_input)"
   ]
  },
  {
   "cell_type": "markdown",
   "metadata": {},
   "source": [
    "## Branching"
   ]
  },
  {
   "cell_type": "code",
   "execution_count": null,
   "metadata": {},
   "outputs": [],
   "source": [
    "a,b = 10,100\n",
    "if a>b:\n",
    "    print(\"a rocks\")\n",
    "elif b>a:\n",
    "    print(\"b rocks\")\n",
    "else:\n",
    "    print(\"a equals b\")"
   ]
  },
  {
   "cell_type": "markdown",
   "metadata": {},
   "source": [
    "## Looping    "
   ]
  },
  {
   "cell_type": "code",
   "execution_count": null,
   "metadata": {},
   "outputs": [],
   "source": [
    "oddsum = 0\n",
    "for i in range(1,100,2):\n",
    "    oddsum = oddsum + i\n",
    "print(\"Sum odds is: \", oddsum)"
   ]
  },
  {
   "cell_type": "markdown",
   "metadata": {},
   "source": [
    "## (a little) OOP"
   ]
  },
  {
   "cell_type": "code",
   "execution_count": null,
   "metadata": {},
   "outputs": [],
   "source": [
    "class Cat:\n",
    "    species = \"felis catus\"\n",
    "    def __init__(self, name, age):\n",
    "        self.name = name\n",
    "        self.age = age\n",
    "    def speak(self, sound):\n",
    "        return f\"{self.name} says {sound}\"    \n",
    "\n",
    "class SpecialCat(Cat):\n",
    "    pass\n",
    "\n",
    "bimfi = SpecialCat(\"bimfi\", 10)\n",
    "miu = Cat(\"Miu da Winzi\", 1)\n",
    "print(miu.speak(\"miaauuurrr\"))\n",
    "\n",
    "print(miu, miu.name, miu.species)\n",
    "print(isinstance(miu, Cat))\n",
    "print(isinstance(miu, SpecialCat))"
   ]
  },
  {
   "cell_type": "markdown",
   "metadata": {},
   "source": [
    "## Reading a file"
   ]
  },
  {
   "cell_type": "code",
   "execution_count": null,
   "metadata": {},
   "outputs": [],
   "source": [
    "fh = open(\"./data/test.txt\",'r',encoding = 'utf-8')\n",
    "fc = fh.readlines() # fc is a list of lines now\n",
    "for line in fc:\n",
    "    print(line)"
   ]
  },
  {
   "cell_type": "markdown",
   "metadata": {},
   "source": [
    "## Downloading a file from web"
   ]
  },
  {
   "cell_type": "code",
   "execution_count": null,
   "metadata": {},
   "outputs": [],
   "source": [
    "import requests\n",
    "url = \"https://www.its-stuttgart.de/wp-content/uploads/2018/05/Slider_ITSchule.jpg\"\n",
    "dl = myfile = requests.get(url) # allow_redirects=True\n",
    "open('dl.jpg', 'wb').write(dl.content)"
   ]
  },
  {
   "cell_type": "markdown",
   "metadata": {},
   "source": [
    "## Download a (web-)page"
   ]
  },
  {
   "cell_type": "code",
   "execution_count": null,
   "metadata": {},
   "outputs": [],
   "source": [
    "import urllib\n",
    "url = \"https://www.its-stuttgart.de\"\n",
    "urllib.request.urlretrieve(url, 'dl.html')"
   ]
  },
  {
   "cell_type": "markdown",
   "metadata": {},
   "source": [
    "## Download (bigger) file in chunks (or even several at once)"
   ]
  },
  {
   "cell_type": "code",
   "execution_count": 7,
   "metadata": {},
   "outputs": [],
   "source": [
    "import requests\n",
    "url = \"https://www.its-stuttgart.de/wp-content/uploads/its/74158_ITS_Lay15_DS.pdf\"\n",
    "dl = requests.get(url, stream = True)\n",
    "with open(\"brochure.pdf\", \"wb\") as dlPDF:#\n",
    "    for chunk in dl.iter_content(chunk_size = 1024):\n",
    "        if chunk:\n",
    "            dlPDF.write(chunk)"
   ]
  },
  {
   "cell_type": "markdown",
   "metadata": {},
   "source": [
    "## Slicing"
   ]
  },
  {
   "cell_type": "code",
   "execution_count": null,
   "metadata": {},
   "outputs": [],
   "source": [
    "# slicing\n",
    "text = \"Madam I'm Adam\"\n",
    "print (text[0])\n",
    "print (text[1:3])\n",
    "print (text[4::-1])\n",
    "print (text[::2])"
   ]
  },
  {
   "cell_type": "markdown",
   "metadata": {},
   "source": [
    "## reverse a string"
   ]
  },
  {
   "cell_type": "code",
   "execution_count": null,
   "metadata": {},
   "outputs": [],
   "source": [
    "text = \"Madam I'm Adam\"\n",
    "print(3 * text[::-1])\n",
    "print(\"madA m'I madaM\" == text[::-1]) # pali-check?"
   ]
  },
  {
   "cell_type": "markdown",
   "metadata": {},
   "source": [
    "## unique elements, enumerate()"
   ]
  },
  {
   "cell_type": "code",
   "execution_count": null,
   "metadata": {},
   "outputs": [],
   "source": [
    "s = \"eeaaaabbbaaccaaccdd\"\n",
    "unique = list(set(s))\n",
    "unique.sort()\n",
    "print(unique)\n",
    "print('<->'.join(str(e) for e in unique))\n",
    "for k, v in enumerate(unique):\n",
    "    print(k, \"=>\", v)\n",
    "        "
   ]
  },
  {
   "cell_type": "markdown",
   "metadata": {},
   "source": [
    "## squares w/ list comps (and some zip())"
   ]
  },
  {
   "cell_type": "code",
   "execution_count": null,
   "metadata": {},
   "outputs": [],
   "source": [
    "numlist = range(10)\n",
    "#print (list(numlist)\n",
    "print([x**2 for x in numlist])\n",
    "for x,y in zip(numlist,[x**2 for x in numlist]):\n",
    "    print(x,y)"
   ]
  },
  {
   "cell_type": "markdown",
   "metadata": {},
   "source": [
    "## no more temp var"
   ]
  },
  {
   "cell_type": "code",
   "execution_count": null,
   "metadata": {},
   "outputs": [],
   "source": [
    "a,b = 10,100\n",
    "a,b = b,a\n",
    "print(\"a = \", a , \", b = \", b)"
   ]
  },
  {
   "cell_type": "markdown",
   "metadata": {},
   "source": [
    "## yielding (sexy generator!)"
   ]
  },
  {
   "cell_type": "code",
   "execution_count": null,
   "metadata": {},
   "outputs": [],
   "source": [
    "def yielder(start, end):\n",
    "    for x in range(start, end):\n",
    "        yield x**x\n",
    "\n",
    "for a in yielder(1,10000000):\n",
    "    print(a)\n",
    "    if a > 200:\n",
    "        break"
   ]
  },
  {
   "cell_type": "markdown",
   "metadata": {},
   "source": [
    "## functions as first class citizens"
   ]
  },
  {
   "cell_type": "code",
   "execution_count": null,
   "metadata": {},
   "outputs": [],
   "source": [
    "def foo(arg):\n",
    "    print(\"i am so foo! my arg was\", arg)\n",
    "\n",
    "def bar(arg):\n",
    "    print(\"i am so bar! my arg was\", arg)\n",
    "\n",
    "def maker(f,arg):\n",
    "    f(arg)\n",
    "\n",
    "funx = [foo,bar]\n",
    "for f in funx:\n",
    "    maker(f,23)"
   ]
  },
  {
   "cell_type": "markdown",
   "metadata": {},
   "source": [
    "## glimpse of lambdas"
   ]
  },
  {
   "cell_type": "code",
   "execution_count": null,
   "metadata": {},
   "outputs": [],
   "source": [
    "high_ord_func = lambda x, func: x + func(x)\n",
    "print(high_ord_func(2, lambda x: x * x))\n",
    "print(high_ord_func(2, lambda x: x + 3))"
   ]
  },
  {
   "cell_type": "markdown",
   "metadata": {},
   "source": [
    "## qsort w/ list comps"
   ]
  },
  {
   "cell_type": "code",
   "execution_count": null,
   "metadata": {},
   "outputs": [],
   "source": [
    "def qsort(arr): \n",
    "    if len(arr) <= 1:\n",
    "        return arr\n",
    "    else:\n",
    "        return qsort([x for x in arr[1:] if x < arr[0]]) + \\\n",
    "               [arr[0]] + \\\n",
    "               qsort([x for x in arr[1:] if x >= arr[0]])\n",
    "\n",
    "l = [4,177,2,434,-2,2.3,33,33,109.2325,2**0.5,5,7,23]\n",
    "print(qsort(l))"
   ]
  },
  {
   "cell_type": "markdown",
   "metadata": {},
   "source": [
    "## some built ins and magics"
   ]
  },
  {
   "cell_type": "code",
   "execution_count": null,
   "metadata": {},
   "outputs": [],
   "source": [
    "bin(5)\n",
    "hex(252)\n",
    "format(6, 'b')\n",
    "chr(ord('€'))\n",
    "days = ['Mon','Tue','Wed','Thu','Fri','Sat','Sun']\n",
    "a = list(enumerate(days))\n",
    "print(a)\n",
    "\n",
    "characters = ['p', 'y', 't', 'h', 'o', 'n']\n",
    "print(\"\".join(characters))\n",
    "\n",
    "def f1(e):\n",
    "    return e[0].upper()==\"S\"\n",
    "print(list(filter(f1, days)))\n",
    "# len, input, min, max, globals, locals, hasattr, ...\n"
   ]
  },
  {
   "cell_type": "markdown",
   "metadata": {},
   "source": [
    "## some matplotlib"
   ]
  },
  {
   "cell_type": "code",
   "execution_count": null,
   "metadata": {},
   "outputs": [],
   "source": [
    "import matplotlib.pyplot as plt\n",
    "x,y = range(20), [xd**2 for xd in range(20)]\n",
    "plt.title('some title')\n",
    "plt.xlabel('x-values')\n",
    "plt.ylabel('y-values')\n",
    "plt.grid(True)            \n",
    "plt.axis([0, 20, 0, 420]) \n",
    "plt.plot(x,y,color='red')\n",
    "plt.show()"
   ]
  },
  {
   "cell_type": "markdown",
   "metadata": {},
   "source": [
    "## (sub-)matplot(s)lib w/ a little numpy "
   ]
  },
  {
   "cell_type": "code",
   "execution_count": null,
   "metadata": {},
   "outputs": [],
   "source": [
    "import matplotlib.pyplot as plt\n",
    "import numpy as np\n",
    "x, max_exp = np.arange(start=-20, stop=21), 8\n",
    "plt.figure(figsize=(20,3)) # inches :///\n",
    "for e in range(1,max_exp):\n",
    "    plt.subplot(1,max_exp,e)\n",
    "    plt.grid(True)\n",
    "    plt.plot(x,x**e)\n",
    "plt.show()"
   ]
  },
  {
   "cell_type": "markdown",
   "metadata": {},
   "source": [
    "## sklearn some model checking"
   ]
  },
  {
   "cell_type": "code",
   "execution_count": null,
   "metadata": {},
   "outputs": [],
   "source": [
    "import numpy as np\n",
    "import sklearn.metrics as skm\n",
    "y_real = [2.2,3.1,3.8,5.0,5.7,7.3,7.9]\n",
    "y_pred = [2.0,3.0,4.0,5.0,6.0,7.0,8.0]\n",
    "print(\"MAE:\" ,skm.mean_absolute_error(y_real,y_pred))\n",
    "print(\"MSE:\" ,skm.mean_squared_error(y_real,y_pred))\n",
    "print(\"RMSE:\",np.sqrt(skm.mean_squared_error(y_real,y_pred)))\n",
    "print(\"R2:\"  ,skm.r2_score(y_real,y_pred))"
   ]
  },
  {
   "cell_type": "markdown",
   "metadata": {},
   "source": [
    "## multiple linear regression"
   ]
  },
  {
   "cell_type": "code",
   "execution_count": null,
   "metadata": {},
   "outputs": [],
   "source": [
    "import numpy as np\n",
    "import matplotlib.pyplot as plt\n",
    "from sklearn.linear_model import LinearRegression\n",
    "x = np.array([ [156.3,158.9,160.8,179.6,156.6,165.1,165.9,156.7,167.8,160.8],\n",
    "               [ 62  , 52  , 83  , 69  , 74  , 52  , 77  , 65  , 79  , 51  ],\n",
    "               [ 24  , 34  , 26  , 51  , 43  , 33  , 22  , 21  , 19  , 34  ]\n",
    "             ])  \n",
    "y = np.array(  [ 48.1, 46.8, 49.3, 51.2, 48.7, 49.0, 50.6, 47.1, 51.7, 47.8])\n",
    "colors = ['blue','red','green']\n",
    "titles = ['X1','X2','X3']\n",
    "plt.figure(figsize=(20, 4))\n",
    "for i in range(3):\n",
    "    plt.subplot(1,3,i+1)\n",
    "    plt.scatter(x[i], y,color=colors[i])\n",
    "    plt.title('Y on '+ titles[i])\n",
    "plt.show()\n",
    "x = x.T\n",
    "model = LinearRegression()\n",
    "model.fit(x,y) # model.score for r2 val\n",
    "x_new=np.array([[170.5, 67, 29],\n",
    "                [162.0, 64, 28],\n",
    "                [170.3, 71, 38],\n",
    "                [167.1, 66, 45]\n",
    "               ])\n",
    "y_pred = model.predict(x_new)\n",
    "print(y_pred)"
   ]
  },
  {
   "cell_type": "markdown",
   "metadata": {},
   "source": [
    "## some linear algebra"
   ]
  },
  {
   "cell_type": "code",
   "execution_count": null,
   "metadata": {},
   "outputs": [],
   "source": [
    "# dot product, cross product\n",
    "import numpy as np\n",
    "a = np.array([1, 2, 3])\n",
    "b = np.array([3, 2, 1])\n",
    "print(np.dot(a,b))\n",
    "print(np.cross(a,b))\n",
    "print((-1)*np.cross(a,b))"
   ]
  },
  {
   "cell_type": "code",
   "execution_count": null,
   "metadata": {},
   "outputs": [],
   "source": [
    "# multiplication matrix w/ vector\n",
    "import numpy as np\n",
    "a = np.array([[1, 2, 3],\n",
    "             [4, 5, 6],\n",
    "             [7, 8, 9]])\n",
    "b= np.array([10, 20, 30])\n",
    "print(\"A =\", a)\n",
    "print(\"b =\", b)\n",
    "print(\"Ab =\",np.matmul(a,b))"
   ]
  },
  {
   "cell_type": "code",
   "execution_count": null,
   "metadata": {},
   "outputs": [],
   "source": [
    "# multiplication matrix w/ matrix\n",
    "import numpy as np\n",
    "np.random.seed(42)\n",
    "A = np.random.randint(0, 15, size=(3,2))\n",
    "B = np.random.randint(0, 15, size =(2,4))\n",
    "print(\"Matrix A:\", A, \"with shape\", A.shape, end=2*\"\\n\")\n",
    "print(\"Matrix B:\\n\", B, \"with shape\", B.shape)\n",
    "C = np.matmul(A, B)\n",
    "print(\"product of A and B:\\n\", C, \"with shape\", C.shape)"
   ]
  },
  {
   "cell_type": "markdown",
   "metadata": {},
   "source": [
    "## some micro ann"
   ]
  },
  {
   "cell_type": "code",
   "execution_count": null,
   "metadata": {},
   "outputs": [],
   "source": [
    "from numpy import exp, array, random, dot\n",
    "\n",
    "class neural_net:\n",
    "    def __init__(self):\n",
    "        random.seed(1)\n",
    "        self.weights = 2 * random.random((3,1))-1\n",
    "        \n",
    "    def train(self, inputs, outputs, num):\n",
    "        for i in range(num):\n",
    "            output = self.think(inputs)\n",
    "            error = outputs - output\n",
    "            adjustment = 0.000001 * dot(inputs.T, error)\n",
    "            self.weights += adjustment\n",
    "    \n",
    "    def think(self, inputs):\n",
    "        return (dot(inputs, self.weights))\n",
    "\n",
    "net = neural_net()\n",
    "# supervised learner\n",
    "inputs = array([[1,2,3], [1,1,1], [5,7,4], [2,12,3], [10,11,12]])\n",
    "outputs = array([[12,6,32,34,66]]).T\n",
    "\n",
    "net.train(inputs,outputs,1000000)\n",
    "\n",
    "#net.think([2,1,1.5])\n",
    "# net.think([1,2,3]) # spoiler (a+b+c)*2\n",
    "net.think([2,6,14]) # spoiler (a+b+c)*2"
   ]
  }
 ],
 "metadata": {
  "kernelspec": {
   "display_name": "binder_env",
   "language": "python",
   "name": "python3"
  },
  "language_info": {
   "codemirror_mode": {
    "name": "ipython",
    "version": 3
   },
   "file_extension": ".py",
   "mimetype": "text/x-python",
   "name": "python",
   "nbconvert_exporter": "python",
   "pygments_lexer": "ipython3",
   "version": "3.10.15"
  }
 },
 "nbformat": 4,
 "nbformat_minor": 2
}
