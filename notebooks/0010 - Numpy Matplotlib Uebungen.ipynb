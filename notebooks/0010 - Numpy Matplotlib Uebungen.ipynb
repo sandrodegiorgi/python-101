{
 "cells": [
  {
   "cell_type": "markdown",
   "metadata": {},
   "source": [
    "#### Übungen\n",
    "\n",
    "Hier gibt es ein paar kleine Übungen zu Numpy und Matplotlib.\n",
    "\n",
    "##### Aufgabe 1:\n",
    "\n",
    "Lege einen zufälligen, ganzzahligen Datensatz als Numpy Array mit der Funktion: np.random.randint() an.\n",
    "\n",
    "##### Aufgabe 2:\n",
    "\n",
    "Stelle diese Daten in Matplotlib als Scatterplot dar, bei dem die y-Koordinaten die Werte des Arrays sind und die x-Koordinaten die Indizes der Listen-Werte sind.\n",
    "\n",
    "##### Aufgabe 3:\n",
    "\n",
    "Beschrifte die x- und y-Achse der Matplotlib Grafik nach Wahl (mit einem String/Text).\n",
    "\n",
    "##### Aufgabe 4: \n",
    "\n",
    "Berechne mit einer eigenen Funktion, oder mit einer Numpy Funktion, den Mittelwerte der Daten und zeichne diesen als rote Linie in der Grafik ein. \n",
    "\n",
    "##### Aufgabe 5:\n",
    "\n",
    "Berechne mit einer eigenen Funktion, oder mit einer Numpy Funktion, den Median der Daten und zeichne diesen als gelbe Linie in der Grafik ein. \n",
    "\n",
    "#### Viel Erfolg!"
   ]
  },
  {
   "cell_type": "code",
   "execution_count": null,
   "metadata": {},
   "outputs": [],
   "source": [
    "import numpy as np\n",
    "import matplotlib.pyplot as plt\n",
    "#np.random.randint?"
   ]
  },
  {
   "cell_type": "code",
   "execution_count": null,
   "metadata": {},
   "outputs": [],
   "source": [
    "# Aufgabe 1\n",
    "\n",
    "# Aufgabe 2\n",
    "\n",
    "# Aufgabe 3\n",
    "\n",
    "# Aufgabe 4\n",
    "\n",
    "# Aufgabe 5\n",
    "\n",
    "plt.show()"
   ]
  },
  {
   "cell_type": "code",
   "execution_count": null,
   "metadata": {},
   "outputs": [],
   "source": []
  }
 ],
 "metadata": {
  "kernelspec": {
   "display_name": "Python 3 (ipykernel)",
   "language": "python",
   "name": "python3"
  },
  "language_info": {
   "codemirror_mode": {
    "name": "ipython",
    "version": 3
   },
   "file_extension": ".py",
   "mimetype": "text/x-python",
   "name": "python",
   "nbconvert_exporter": "python",
   "pygments_lexer": "ipython3",
   "version": "3.9.7"
  }
 },
 "nbformat": 4,
 "nbformat_minor": 4
}
