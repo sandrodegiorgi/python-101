{
 "cells": [
  {
   "cell_type": "markdown",
   "metadata": {},
   "source": [
    "# functions\n",
    "\n",
    "#### siehe auch\n",
    "* https://www.python-kurs.eu/python3_funktionen.php\n",
    "* https://www.w3schools.com/python/python_functions.asp"
   ]
  },
  {
   "cell_type": "markdown",
   "metadata": {},
   "source": [
    "### simple functions\n",
    "To introduce the __def__inition of a function simply use the keyword `def`."
   ]
  },
  {
   "cell_type": "code",
   "execution_count": null,
   "metadata": {},
   "outputs": [],
   "source": [
    "def foo(): # datatype return value invisible\n",
    "    print(\"Easy as 1-2-3!\")\n",
    "    \n",
    "# mind intendation\n",
    "print (\"FREEDOM!!\")\n",
    "foo()"
   ]
  },
  {
   "cell_type": "code",
   "execution_count": null,
   "metadata": {},
   "outputs": [],
   "source": [
    "for _ in range(13):         # _ as placeholder for variables/values, that are not processed any further\n",
    "    foo()"
   ]
  },
  {
   "cell_type": "markdown",
   "metadata": {},
   "source": [
    "### functions with parameter\n",
    "python style - parameters are not typed in any way, remeber, if needed, you have to check the type yourself"
   ]
  },
  {
   "cell_type": "code",
   "execution_count": null,
   "metadata": {},
   "outputs": [],
   "source": [
    "def say_hello(name):\n",
    "    print(\"Hello\", name)\n",
    "\n",
    "names = [\"Jim\", \"Mick\", \"Theodore\", \"Benjamin\"]\n",
    "for name in names:\n",
    "    say_hello(name)"
   ]
  },
  {
   "cell_type": "markdown",
   "metadata": {},
   "source": [
    "### functions with parameter and return value\n",
    "Surprise! Again, no datatype definition anywhere - not even the signature shows a possible return value"
   ]
  },
  {
   "cell_type": "code",
   "execution_count": null,
   "metadata": {},
   "outputs": [],
   "source": [
    "def double_up(number):\n",
    "    return number * 2\n",
    "\n",
    "double_up(21)"
   ]
  },
  {
   "cell_type": "markdown",
   "metadata": {},
   "source": [
    "#### CAVE: functions can return more than one value (e.g. as a tuple)\n",
    "#### CAVE: functions can use functions as parameters! (wooohoo!)"
   ]
  },
  {
   "cell_type": "code",
   "execution_count": null,
   "metadata": {},
   "outputs": [],
   "source": [
    "def double_triple_up(number):\n",
    "    return number*2, number*3\n",
    "    # return (number*2, number*3) # you can leave out the () notation, return type is still a tuple\n",
    "    \n",
    "double_triple_up(8)"
   ]
  },
  {
   "cell_type": "markdown",
   "metadata": {},
   "source": [
    "#### one more example"
   ]
  },
  {
   "cell_type": "code",
   "execution_count": 2,
   "metadata": {},
   "outputs": [],
   "source": [
    "def list_max(my_list):\n",
    "    def bar():\n",
    "        print(\"hi rob\")\n",
    "    bar()    \n",
    "    max = my_list[0]\n",
    "    \n",
    "    for i in range(1,len(my_list)):\n",
    "        if my_list[i] > max:\n",
    "            print(\"Last max: \", max)\n",
    "            print(\"New max: \", my_list[i])\n",
    "            max = my_list[i]\n",
    "    return max\n",
    "\n",
    "def list_max_2(my_list):\n",
    "    max = my_list[0]\n",
    "    \n",
    "    for i,val in enumerate(my_list):\n",
    "        if val > max:\n",
    "            print(\"Last max: \", max)\n",
    "            print(\"New max: \", val)\n",
    "            max = val\n",
    "    return max"
   ]
  },
  {
   "cell_type": "code",
   "execution_count": null,
   "metadata": {},
   "outputs": [],
   "source": [
    "list_a = [1, 12, -5, -23, 19]\n",
    "list_max(list_a)\n",
    "#list_max_2(list_a)\n",
    "\n",
    "list_max([\"hjfdhf\",\"hjkfdkdf\"]).bar()"
   ]
  },
  {
   "cell_type": "markdown",
   "metadata": {},
   "source": [
    "### a lot of \"built-in functions\" are there and ready for you (we also have an extra JNotebook for built-ins).\n",
    "#### also see \n",
    "* https://www.w3schools.com/python/python_ref_functions.asp\n",
    "* https://docs.python.org/3/library/functions.html\n",
    "\n",
    "here some examples..."
   ]
  },
  {
   "cell_type": "code",
   "execution_count": null,
   "metadata": {},
   "outputs": [],
   "source": [
    "print(max(list_a))\n",
    "print(min(list_a))"
   ]
  },
  {
   "cell_type": "markdown",
   "metadata": {},
   "source": [
    "#### a little recursion\n",
    "if you have no idea what is going on, please see\n",
    "* https://de.wikipedia.org/wiki/Rekursion#Programmierbeispiele\n",
    "* https://de.wikipedia.org/wiki/Fakult%C3%A4t_(Mathematik)\n",
    "* siehe auch https://github.com/ShonHarsh/Python-Fibonacci (another beautiful problem for recursion)"
   ]
  },
  {
   "cell_type": "code",
   "execution_count": null,
   "metadata": {},
   "outputs": [],
   "source": [
    "def faculty(n):\n",
    "    if n < 2:\n",
    "        return 1\n",
    "    else:\n",
    "        return n * faculty(n-1)\n",
    "    \n",
    "faculty(23)"
   ]
  },
  {
   "cell_type": "markdown",
   "metadata": {},
   "source": [
    "### some python beauties"
   ]
  },
  {
   "cell_type": "markdown",
   "metadata": {},
   "source": [
    "#### docstring"
   ]
  },
  {
   "cell_type": "code",
   "execution_count": null,
   "metadata": {},
   "outputs": [],
   "source": [
    "def foobar():\n",
    "    \"\"\" Welcome to foobar() - we do absolutely nothing at the speed of light!! \"\"\" \n",
    "    pass # pass means - do absolutely nothing\n",
    "\n",
    "print(foobar.__doc__) # another magic method"
   ]
  },
  {
   "cell_type": "markdown",
   "metadata": {},
   "source": [
    "#### default-parameters, probably see\n",
    "* https://www.w3schools.com/python/gloss_python_function_default_parameter.asp"
   ]
  },
  {
   "cell_type": "code",
   "execution_count": null,
   "metadata": {},
   "outputs": [],
   "source": [
    "def say_hello(name=\"Nobody!\", sal=\"Miss\"):\n",
    "    print(\"Hello\", sal, name)\n",
    "    \n",
    "# respect the order of the parameters\n",
    "say_hello(\"Mullham\", \"Mister\")\n",
    "say_hello(\"Jones\")\n",
    "say_hello(\"Michael\", sal=\"Wild Animal\")"
   ]
  },
  {
   "cell_type": "markdown",
   "metadata": {},
   "source": [
    "#### positioned vs named parameters"
   ]
  },
  {
   "cell_type": "code",
   "execution_count": null,
   "metadata": {},
   "outputs": [],
   "source": [
    "def describe(name, animal, female):\n",
    "    s = \"Cute girl\" if female else \"Cute boy\"\n",
    "    print(s, animal, \"is called\", name)\n",
    "    \n",
    "describe(\"Paule\", \"Cat\", False)\n",
    "\n",
    "describe(\"Mimi\", \"Cat\", female=True)\n",
    "\n",
    "# mind the order of parameters does not matter here\n",
    "describe(animal=\"Dog\", female=True, name=\"Schnucki\")\n",
    "\n",
    "say_hello(sal=\"Mister\",name=\"Mueller\") # same here (!)\n",
    "\n",
    "say_hello(sal=\"Mister\") # funktioniert nicht, da der nachname kein default Wert hat"
   ]
  },
  {
   "cell_type": "markdown",
   "metadata": {},
   "source": [
    "#### see above, we return more than one result here as a tuple"
   ]
  },
  {
   "cell_type": "code",
   "execution_count": null,
   "metadata": {},
   "outputs": [],
   "source": [
    "def div_and_mod(x,y):\n",
    "    a = x // y\n",
    "    b = x % y\n",
    "    return a,b\n",
    "#   return (a,b)\n",
    "\n",
    "# (res, remainder) = div_and_mod(17,5)\n",
    "res, remainder = div_and_mod(17,5)\n",
    "print('17 / 5 = ',res, \"R\",remainder )\n"
   ]
  },
  {
   "cell_type": "code",
   "execution_count": null,
   "metadata": {},
   "outputs": [],
   "source": [
    "# well, python also offers a built-in for this scenario, ole!\n",
    "res, remainder = divmod(17,5)\n",
    "print('17 / 5 = ',res, \"R\",remainder)"
   ]
  },
  {
   "cell_type": "markdown",
   "metadata": {},
   "source": [
    "#### yield vs return\n",
    "* https://realpython.com/introduction-to-python-generators/\n",
    "* https://www.askpython.com/python/python-yield-examples"
   ]
  },
  {
   "cell_type": "code",
   "execution_count": null,
   "metadata": {},
   "outputs": [],
   "source": [
    "from random import randint\n",
    "\n",
    "# returning computed values the \"return-way\"\n",
    "\n",
    "def get_random_ints(count, begin, end):\n",
    "    print(\"get_random_ints start\")\n",
    "    list_numbers = []\n",
    "    for x in range(0, count):\n",
    "        list_numbers.append(randint(begin, end))\n",
    "    print(\"get_random_ints end\")\n",
    "    return list_numbers\n",
    " \n",
    " \n",
    "print(type(get_random_ints))\n",
    "nums = get_random_ints(10, 0, 100) # what if we increase count to 1000000000?\n",
    "print(nums)"
   ]
  },
  {
   "cell_type": "code",
   "execution_count": null,
   "metadata": {},
   "outputs": [],
   "source": [
    "# here the \"yield\"-way\n",
    "# yielding creates a generator (function) for you, isn't that cute?\n",
    "\n",
    "def get_random_ints(count, begin, end):\n",
    "    print(\"get_random_ints start\")\n",
    "    for x in range(0, count):\n",
    "        yield randint(begin, end)\n",
    "    print(\"get_random_ints end\")\n",
    " \n",
    " \n",
    "nums_generator = get_random_ints(10, 0, 100)\n",
    "print(type(nums_generator))\n",
    "for i in nums_generator:\n",
    "    print(i)"
   ]
  },
  {
   "cell_type": "markdown",
   "metadata": {},
   "source": [
    "#### functions as parameter"
   ]
  },
  {
   "cell_type": "code",
   "execution_count": null,
   "metadata": {},
   "outputs": [],
   "source": [
    "def bar(f, l):\n",
    "    f(l)\n",
    "\n",
    "list_a=[1,2,3,4,56,3,2,4,57,3,2,5,6,5,3,5]\n",
    "bar(list_max,list_a) # it's magic?"
   ]
  },
  {
   "cell_type": "markdown",
   "metadata": {},
   "source": [
    "#### unknown number of arguments"
   ]
  },
  {
   "cell_type": "code",
   "execution_count": null,
   "metadata": {},
   "outputs": [],
   "source": [
    "def arithmetic_mean(*values): # mind the *, arbitrary number of args\n",
    "    return sum(values)/len(values)\n",
    "\n",
    "arithmetic_mean(1,2,3,4,5,6,7,7,8,66,5,4,3,3)"
   ]
  },
  {
   "cell_type": "markdown",
   "metadata": {},
   "source": [
    "#### unknown number of named arguments"
   ]
  },
  {
   "cell_type": "code",
   "execution_count": null,
   "metadata": {},
   "outputs": [],
   "source": [
    "def kw(**kwargs): # mind the **, arbitrary number of NAMED args\n",
    "    print(kwargs)\n",
    "    print(len(kwargs))\n",
    "\n",
    "kw(fr=\"French\",de=\"German\",en=\"English\",it=\"Italian\", hu=[1,2,2,3,(1,3)])"
   ]
  },
  {
   "cell_type": "markdown",
   "metadata": {},
   "source": [
    "#### lamdas"
   ]
  },
  {
   "cell_type": "code",
   "execution_count": null,
   "metadata": {},
   "outputs": [],
   "source": [
    "# todo !"
   ]
  }
 ],
 "metadata": {
  "kernelspec": {
   "display_name": "binder_env",
   "language": "python",
   "name": "python3"
  },
  "language_info": {
   "codemirror_mode": {
    "name": "ipython",
    "version": 3
   },
   "file_extension": ".py",
   "mimetype": "text/x-python",
   "name": "python",
   "nbconvert_exporter": "python",
   "pygments_lexer": "ipython3",
   "version": "3.10.15"
  }
 },
 "nbformat": 4,
 "nbformat_minor": 4
}
