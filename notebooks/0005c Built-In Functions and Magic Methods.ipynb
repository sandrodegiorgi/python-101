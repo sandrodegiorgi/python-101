{
 "cells": [
  {
   "cell_type": "markdown",
   "metadata": {},
   "source": [
    "# Built-In Functions and Magic Methods\n",
    "\n",
    "Python offers several built-in functions, that are simply there for you to use. The `print` function, that we already used heavily is one of those built-in functions. But wait, there is more, there are roughly 90 built-ins sitting in your python interpreter waiting for you."
   ]
  },
  {
   "cell_type": "markdown",
   "metadata": {},
   "source": [
    "\n",
    "\n",
    "#### For magic methods see\n",
    "* https://www.tutorialsteacher.com/python/magic-methods-in-python\n",
    "* https://rszalski.github.io/magicmethods/\n",
    "* https://courses.cs.washington.edu/courses/cse143/10wi/python/3/python143_lecture2.pdf"
   ]
  },
  {
   "cell_type": "markdown",
   "metadata": {},
   "source": [
    "## Built-in functions\n",
    "#### For Built-In Fuctions see\n",
    "* https://docs.python.org/3/library/functions.html\n",
    "* https://www.w3schools.com/python/python_ref_functions.asp\n",
    "* https://stackoverflow.com/questions/8608587/finding-the-source-code-for-built-in-python-functions"
   ]
  },
  {
   "cell_type": "markdown",
   "metadata": {},
   "source": [
    "### Here some examples."
   ]
  },
  {
   "cell_type": "code",
   "execution_count": null,
   "metadata": {},
   "outputs": [],
   "source": [
    "print(\"I am a built in function! Thanks for having me.\")"
   ]
  },
  {
   "cell_type": "code",
   "execution_count": null,
   "metadata": {},
   "outputs": [],
   "source": [
    "# int(x), str(x), float(x)\n",
    "# built-ins to convert a given x to the respective type\n",
    "int(\"42\")\n",
    "float(\"42\")\n",
    "str(42)"
   ]
  },
  {
   "cell_type": "code",
   "execution_count": null,
   "metadata": {},
   "outputs": [],
   "source": [
    "# bin(), hex(), oct() converts an int into a binary string representation (prefixed by 0b) \n",
    "# respectively hexadecimal string (prefixed by 0x)\n",
    "# respectively octal string (prefixed by 0o)\n",
    "bin(4) # 0b 100\n",
    "bin(5) # 0b 101\n",
    "bin(6) # 0b 110 ... and so on\n",
    "\n",
    "# you can use the (built-in) format() function to set, whether you want the 0b prefix, e.g.\n",
    "format(6, '#b') # with 0b prefix\n",
    "format(6, 'b')  # without 0b prefix\n",
    "\n",
    "# actually format offers a lot of \"features\" to convert any argument in a formatted representation\n",
    "hex(255) # 0x ff\n",
    "hex(254) # 0x fe\n",
    "\n",
    "# using format on hex() returns\n",
    "format(255, '#x'), format(255, 'x'), format(255, 'X') # with prefix, without prefix, without and uppercased\n",
    "\n",
    "# also see \n",
    "f'{255:#x}', f'{255:x}', f'{255:X}'\n",
    "# and\n",
    "f'{7:#b}', f'{7:b}'\n",
    "\n",
    "oct(223)\n"
   ]
  },
  {
   "cell_type": "code",
   "execution_count": null,
   "metadata": {},
   "outputs": [],
   "source": [
    "# chr() and ord()\n",
    "# chr(i) returns a string representation of a character whose unicode is the int i, e.g.\n",
    "chr(97)   # a\n",
    "chr(8364) # € symbol\n",
    "\n",
    "# ord(c) is inverse to chr(), it returns the unicode for a given character c\n",
    "ord('€')      # 8364\n",
    "chr(ord('€')) # €"
   ]
  },
  {
   "cell_type": "code",
   "execution_count": null,
   "metadata": {},
   "outputs": [],
   "source": [
    "# a very \"strong\" built-in is dir(), without argument it returns a list of names in the current scope\n",
    "# with an argument (practically any legal python object) returns a list of all attributes of that object\n",
    "dir()\n",
    "dir(int)\n",
    "dir(\"hello my dear friend\")\n",
    "dir(dir())\n",
    "\n",
    "# this comes in very handy when working with modules, e.g.\n",
    "import numpy as numbercrunchermachine20\n",
    "dir(numpy)\n",
    "dir(numbercrunchermachine20)"
   ]
  },
  {
   "cell_type": "code",
   "execution_count": null,
   "metadata": {},
   "outputs": [],
   "source": [
    "# enumerate() technically returns an enumerate object, let's go with an example\n",
    "days = ['Mon','Tue','Wed','Thu','Fri','Sat','Sun']\n",
    "enumerate(days)\n",
    "# pass that enumerate object to another built-in list() to get...\n",
    "list(enumerate(days)) # sexy, right?"
   ]
  },
  {
   "cell_type": "code",
   "execution_count": null,
   "metadata": {},
   "outputs": [],
   "source": [
    "# anyone down for some functional-ish coding?\n",
    "# filter(f, iter) returns elements (well, technically another iter) of iter, \n",
    "# e.g. a list, for which a function f returns true\n",
    "def f1(e):\n",
    "    return e[0].upper()==\"S\"\n",
    "\n",
    "list(filter(f1, days))\n",
    "\n",
    "# sidenote: one could write a list comprehension for this, like\n",
    "[x for x in days if x[0].upper()==\"S\"]\n"
   ]
  },
  {
   "cell_type": "code",
   "execution_count": null,
   "metadata": {},
   "outputs": [],
   "source": [
    "# globals() returns the current global symbol-table, locals() the local symbol-table\n",
    "# cave: at module level these two hold the same dictionary\n",
    "globals()\n",
    "locals()"
   ]
  },
  {
   "cell_type": "code",
   "execution_count": null,
   "metadata": {},
   "outputs": [],
   "source": [
    "# hasattr(o, s) # checks whether object o holds an attribute s (boolean return)\n",
    "#dir(int)\n",
    "hasattr(int,\"bit_length\")\n",
    "\n",
    "# getattr(o, s) # returns the value of named attribute s on object o\n",
    "getattr(int,\"bit_length\")\n",
    "# m = getattr(int,\"bit_length\")\n",
    "\n",
    "# dir(days)\n",
    "# a = getattr(days,\"append\")\n",
    "# a(\"some item\")\n",
    "# days"
   ]
  },
  {
   "cell_type": "code",
   "execution_count": null,
   "metadata": {},
   "outputs": [],
   "source": [
    "# help() invokes internal help system\n",
    "help()"
   ]
  },
  {
   "cell_type": "code",
   "execution_count": null,
   "metadata": {},
   "outputs": [],
   "source": [
    "# input()\n",
    "s = input(\"Bring it: \")\n",
    "s"
   ]
  },
  {
   "cell_type": "code",
   "execution_count": null,
   "metadata": {},
   "outputs": [],
   "source": [
    "# len(o) returns the length of a given object o\n",
    "len(\"How log is this string?\")\n",
    "len(days) # length of a list\n",
    "days.append(\"some more item\")\n",
    "len(days)                 \n",
    "len({'k1':'v1','k2':'v2'}) # length of a dictionary\n",
    "l = [x  for x in range(23)]\n",
    "len(l)"
   ]
  },
  {
   "cell_type": "code",
   "execution_count": null,
   "metadata": {},
   "outputs": [],
   "source": [
    "# map(f, iter) applies function f to every item of iter\n",
    "def reverser(e):\n",
    "    return e[::-1]\n",
    "    \n",
    "print(list(map(reverser, days)))\n"
   ]
  },
  {
   "cell_type": "markdown",
   "metadata": {},
   "source": [
    "#### for random numbers in python also see\n",
    "* https://www.w3schools.com/python/ref_random_randint.asp\n",
    "* http://www.learningaboutelectronics.com/Articles/How-to-create-an-array-of-random-integers-in-Python-with-numpy.php"
   ]
  },
  {
   "cell_type": "code",
   "execution_count": null,
   "metadata": {},
   "outputs": [],
   "source": [
    "# min(iter) max(iter)\n",
    "# returns the smallest respectively largest item from iterable iter\n",
    "min(days)\n",
    "\n",
    "import random\n",
    "mm = []\n",
    "for r in range(10):\n",
    "    mm.append(random.randint(1, 100)) # lower bound 1 and upper bound 100 included!\n",
    "\n",
    "mm\n",
    "min(mm)\n",
    "max(mm)"
   ]
  }
 ],
 "metadata": {
  "kernelspec": {
   "display_name": "Python 3",
   "language": "python",
   "name": "python3"
  },
  "language_info": {
   "codemirror_mode": {
    "name": "ipython",
    "version": 3
   },
   "file_extension": ".py",
   "mimetype": "text/x-python",
   "name": "python",
   "nbconvert_exporter": "python",
   "pygments_lexer": "ipython3",
   "version": "3.8.3"
  }
 },
 "nbformat": 4,
 "nbformat_minor": 4
}
