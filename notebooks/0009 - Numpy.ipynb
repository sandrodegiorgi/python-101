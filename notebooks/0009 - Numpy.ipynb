{
 "cells": [
  {
   "cell_type": "markdown",
   "metadata": {},
   "source": [
    "# Einführung in NumPy\n",
    "* siehe https://www.python-kurs.eu/numpy.php\n",
    "\n",
    "NumPy ist eine in C programmierte Bibliothek zur einfachen Handhabung von Vektoren, Matrizen oder generell großen mehrdimensionalen Arrays. Zudem bietet NumPy implementierte Funktionen für numerische Berechnungen.\n",
    "Da der Quellcode zu NumPy komplett kompiliert vorliegt, ist die Bearbeitung deutlich effizienter im Gegensatz zu unoptimiertem Bytecode durch den Python-Interpreter.\n",
    "\n",
    "#### Einschränkungen:\n",
    "Ein tatsächliches Hinzufügen von Array Einträgen wie bei Listen in Python ist nicht möglich. \n",
    "Bei `np.concatenate()` werden die Arrays nicht wirklich verkettet, sondern ein neues zusammengehängtes zurück gegeben."
   ]
  },
  {
   "cell_type": "code",
   "execution_count": null,
   "metadata": {},
   "outputs": [],
   "source": [
    "import numpy as np\n",
    "\n",
    "liste = [1.0, 7.0, 8.0]\n",
    "np_array = np.array(liste)\n",
    "np_array = np.concatenate([np_array, [6.0]])\n",
    "print(np_array)\n",
    "print(len(np_array))\n",
    "print(np_array.shape)      # .shape liefert als Ergebnis ein Tupel\n",
    "print(np_array.shape[0])   # Anzahl Elemente in der 0. Dimension\n",
    "print(np.mean(np_array))   # Mittelwert der Elemente aus np_array\n",
    "print(np.median(np_array)) # Median der Elemente aus np_array\n"
   ]
  },
  {
   "cell_type": "code",
   "execution_count": null,
   "metadata": {},
   "outputs": [],
   "source": [
    "my_array = np.array([1, 2, 3, 4, 5, 6])\n",
    "print(type(my_array))                   # eindimensional mit 6 Elementen\n",
    "print(my_array.shape)\n",
    "print(my_array)\n",
    "my_array = np.reshape(my_array, (2,3))  # 2 Zeilen und 3 Spalten\n",
    "print(my_array.shape)\n",
    "print(my_array)\n",
    "my_array = np.reshape(my_array, (3,2))  # 3 Zeilen und 2 Spalten\n",
    "print(my_array.shape)\n",
    "print(my_array)\n",
    "my_array = np.reshape(my_array, (6,1))  # 6 Zeilen mit 1 Spalte\n",
    "print(my_array.shape)\n",
    "print(my_array)\n",
    "my_array = np.reshape(my_array, (6,))  # so war es zu Beginn\n",
    "print(my_array.shape)\n",
    "print(my_array)"
   ]
  },
  {
   "cell_type": "code",
   "execution_count": null,
   "metadata": {},
   "outputs": [],
   "source": [
    "# Erzeuge und befülle ein 3x3 Array mit durchgehend 0\n",
    "my_zero = np.zeros(shape=(3,3))\n",
    "print(my_zero)\n",
    "\n",
    "# Erzeuge und befülle ein 3x3 Array mit durchgehend 1\n",
    "my_one = np.ones(shape=(3,3))\n",
    "print(my_one)\n",
    "\n",
    "# Erzeuge und befülle ein 3x3 Array mit durchgehend 0.25\n",
    "my_array = np.full(shape=(3,3), fill_value=0.25)\n",
    "print(my_array)"
   ]
  },
  {
   "cell_type": "markdown",
   "metadata": {},
   "source": [
    "#### Matrix-Multiplikation\n",
    "* siehe https://de.wikipedia.org/wiki/Matrizenmultiplikation\n",
    "\n",
    "$$\n",
    "\\begin{bmatrix} 3 & 2 & 1 \\\\ 1 & 0 & 2\\end{bmatrix} \\cdot \n",
    "\\begin{bmatrix} 1 & 2 \\\\ 0 & 1\\\\ 4 & 0\\end{bmatrix} = \n",
    "\\begin{bmatrix} 3\\cdot1+2\\cdot0+1\\cdot4 & 3\\cdot3+2\\cdot0+1\\cdot4 \\\\ 1\\cdot1+0\\cdot0+2\\cdot4 & 1\\cdot2+0\\cdot1+2\\cdot0\\end{bmatrix} = \n",
    "\\begin{bmatrix} 7 & 8 \\\\ 9 & 2\\end{bmatrix} \n",
    "$$"
   ]
  },
  {
   "cell_type": "code",
   "execution_count": null,
   "metadata": {},
   "outputs": [],
   "source": [
    "x = np.array([[3,2,1],\n",
    "              [1,0,2]])\n",
    "y = np.array([[1,2],\n",
    "              [0,1],\n",
    "              [4,0]])\n",
    "result_array = np.dot(x, y)      # gebräuchliche Schreibweise\n",
    "print(result_array)\n",
    "result_array = np.matmul(x, y)   # macht das Gleiche\n",
    "print(result_array)\n",
    "result_array = x @ y             # macht auch das Gleiche\n",
    "print(result_array)"
   ]
  },
  {
   "cell_type": "markdown",
   "metadata": {},
   "source": [
    "#### Achtung: Nicht zu verwechseln mit np.multiply()\n",
    "* siehe https://www.journaldev.com/32966/numpy-matrix-multiplication"
   ]
  },
  {
   "cell_type": "code",
   "execution_count": null,
   "metadata": {},
   "outputs": [],
   "source": [
    "u = np.array([[1,2],\n",
    "              [3,4]])\n",
    "v = np.array([[5,6],\n",
    "              [7,8]])\n",
    "result_array = np.multiply(u, v)\n",
    "print(result_array)"
   ]
  },
  {
   "cell_type": "markdown",
   "metadata": {},
   "source": [
    "#### Bestimmen von Position und Wert des größten und des kleinsten Elements aus einem np-Array"
   ]
  },
  {
   "cell_type": "code",
   "execution_count": null,
   "metadata": {},
   "outputs": [],
   "source": [
    "my_array = np.array([-1, 0, 1])\n",
    "\n",
    "print(\"Position des größten Elements:\",np.argmax(my_array))\n",
    "print(\"Position des kleinsten Elements:\",np.argmin(my_array))\n",
    "print(\"Wert des größten Elements:\",np.max(my_array))\n",
    "print(\"Wert des kleinsten Elements:\",np.min(my_array))"
   ]
  },
  {
   "cell_type": "markdown",
   "metadata": {},
   "source": [
    "#### Anlegen und Befüllen von np-Arrays"
   ]
  },
  {
   "cell_type": "code",
   "execution_count": null,
   "metadata": {},
   "outputs": [],
   "source": [
    "# Befülle np-Array mit 10 Werten von 0 bis 9\n",
    "np_array1 = np.arange(10)   # Vergleiche dazu arange(5,10) .. arange(5,10,2)\n",
    "print(np_array1)\n",
    "\n",
    "# Befülle np-Array mit insgesamt 20 Werten, die alle den identischen Abstand zueinander haben\n",
    "# start- und stop-Werte sind im np-Array enthalten\n",
    "np_array2 = np.linspace(start=0.0, stop=2.5, num=20)\n",
    "print(np_array2)\n",
    "print(np_array2.shape)"
   ]
  },
  {
   "cell_type": "markdown",
   "metadata": {},
   "source": [
    "#### Einheitsmatrix\n",
    "Eine Einheitsmatrix ist demnach eine Diagonalmatrix, bei der alle Elemente auf der Hauptdiagonale gleich 1 sind. \n",
    "Als Schreibweise ist neben $I_{n}$ (von Identität) oder auch $E_{n}$ (von Einheit) gebräuchlich.  \n",
    "Falls die Dimension aus dem Kontext hervorgeht, wird auch häufig auf den Indexn verzichtet und nur I beziehungsweise E geschrieben.\n",
    "$$\n",
    "E = \\begin{bmatrix} 1 & 0 & 0 \\\\ 0 & 1 & 0 \\\\ 0 & 0 & 1\\end{bmatrix}\n",
    "$$\n"
   ]
  },
  {
   "cell_type": "code",
   "execution_count": null,
   "metadata": {},
   "outputs": [],
   "source": [
    "n = 3\n",
    "np_einheitsmatrix =  np.identity(n)\n",
    "print(np_einheitsmatrix)"
   ]
  },
  {
   "cell_type": "markdown",
   "metadata": {},
   "source": [
    "#### inverse Matrix\n",
    "Die inverse Matrix ist in der Mathematik eine quadratische Matrix, die mit der Ausgangsmatrix multipliziert die Einheitsmatrix ergibt.\n",
    "* https://de.wikipedia.org/wiki/Inverse_Matrix\n",
    "\n",
    "$$\n",
    "A = \n",
    "\\begin{bmatrix} 1 &  2 \\\\ 2 & 3\\end{bmatrix}\n",
    "$$\n",
    "\n",
    "$$\n",
    "A^{-1} = \n",
    "\\begin{bmatrix} -3 &  2 \\\\ 2 & -1\\end{bmatrix}\n",
    "$$\n",
    "\n",
    "$$\n",
    "A \\cdot A^{-1} = E\n",
    "$$\n",
    "\n",
    "\n",
    "$$\n",
    "\\begin{bmatrix} 1 &  2 \\\\ 2 & 3\\end{bmatrix} \\cdot\n",
    "\\begin{bmatrix} -3 &  2 \\\\ 2 & -1\\end{bmatrix} =\n",
    "\\begin{bmatrix} 1\\cdot-3+2\\cdot2 & 1\\cdot2+2\\cdot1 \\\\ 2\\cdot-3+3\\cdot2 & 2\\cdot2+3\\cdot-1\\end{bmatrix} = \n",
    "\\begin{bmatrix} 1 & 0 \\\\ 0 & 1\\end{bmatrix}\n",
    "$$\n"
   ]
  },
  {
   "cell_type": "code",
   "execution_count": null,
   "metadata": {},
   "outputs": [],
   "source": [
    "liste = [[1,2],\n",
    "         [2,3]]\n",
    "A = np.array(liste)\n",
    "print(A)\n",
    "\n",
    "Ainv = np.linalg.inv(A)\n",
    "print(Ainv)\n",
    "\n",
    "E = A.dot(Ainv)\n",
    "print(E)"
   ]
  },
  {
   "cell_type": "markdown",
   "metadata": {},
   "source": [
    "#### Matrix transponieren\n",
    "\n",
    "Die transponierte Matrix ist in der Mathematik diejenige Matrix, die durch Vertauschen der Rollen von Zeilen und Spalten einer gegebenen Matrix entsteht.\n",
    "\n",
    "$$\n",
    "X = \\begin{bmatrix} 3 & 2 & 1 \\\\ 1 & 0 & 2\\end{bmatrix}\n",
    "$$\n",
    "\n",
    "$$\n",
    "X^{T} = \\begin{bmatrix} 3 & 1 \\\\ 2 & 0 \\\\ 1 & 2\\end{bmatrix}\n",
    "$$"
   ]
  },
  {
   "cell_type": "code",
   "execution_count": null,
   "metadata": {},
   "outputs": [],
   "source": [
    "x = np.array([[3,2,1],\n",
    "              [1,0,2]])\n",
    "print(x)\n",
    "xt = np.transpose(x)\n",
    "print(xt)\n",
    "xt = x.T      # kürzere und gebräuchliche Schreibweise\n",
    "print(xt)\n"
   ]
  },
  {
   "cell_type": "code",
   "execution_count": null,
   "metadata": {},
   "outputs": [],
   "source": []
  }
 ],
 "metadata": {
  "kernelspec": {
   "display_name": "Python 3 (ipykernel)",
   "language": "python",
   "name": "python3"
  },
  "language_info": {
   "codemirror_mode": {
    "name": "ipython",
    "version": 3
   },
   "file_extension": ".py",
   "mimetype": "text/x-python",
   "name": "python",
   "nbconvert_exporter": "python",
   "pygments_lexer": "ipython3",
   "version": "3.9.7"
  }
 },
 "nbformat": 4,
 "nbformat_minor": 4
}
