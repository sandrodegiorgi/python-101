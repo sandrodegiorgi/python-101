{
 "cells": [
  {
   "cell_type": "markdown",
   "metadata": {},
   "source": [
    "# Mengen\n",
    "Mengen (sets) funktionieren in Python genau wie in der Mathematik:\n",
    "\n",
    "- Mengen sind *ungeordnet*, d.h. die Reihenfolge, in der die Elemente angegeben/eingefügt werden, spielt keine Rolle\n",
    "- Ein Wert kann *nicht mehrfach* in einer Menge vorkommen, d.h. eine Menge bestimmt nur, ob ein Wert Teil der Menge oder nicht.\n",
    "- (allerdings ist seit Python 3.7 garantiert, dass die Elemente in der Reihenfolge gespeichert werden, in der sie eingefügt wurden. Das ändert aber *nichts* daran, dass {1, 2, 3} == {3, 2, 1} gilt!!!) "
   ]
  },
  {
   "cell_type": "code",
   "execution_count": null,
   "metadata": {},
   "outputs": [],
   "source": [
    "# Die folgenden Mengen sind alle gleich:\n",
    "menge1 = {1, 2, 3} \n",
    "menge2 = {3, 2, 1}   # ungeordnet, d.h. Reihenfolge beim Erstellen/Einfügen egal\n",
    "menge3 = {1, 1, 1, 1, 2, 3}   # mehrfaches Einfügen egal \n",
    "\n",
    "print(menge1 == menge2 == menge3)  \n",
    "print(1 in menge1)\n",
    "print(4 not in menge2)\n",
    "print(menge1.issubset({5, 2, 1, 4, 3}))"
   ]
  },
  {
   "cell_type": "markdown",
   "metadata": {},
   "source": [
    "Die üblichen Mengenoperationen sind definiert:\n",
    "- Vereinigung: `|`\n",
    "- Schnitt: `&`\n",
    "- Mengendifferenz: `-`"
   ]
  },
  {
   "cell_type": "code",
   "execution_count": null,
   "metadata": {},
   "outputs": [],
   "source": [
    "freunde = {\"Tina\", \"Tom\", \"Anna\", \"Otto\", \"Tim\", \"Sandra\"}\n",
    "mitschueler = {\"Horst\", \"Theo\", \"Anna\", \"Zara\", \"Tom\", \"Mike\", \"Tina\"}\n",
    "print(\"HUHUHU\")"
   ]
  },
  {
   "cell_type": "code",
   "execution_count": null,
   "metadata": {},
   "outputs": [],
   "source": [
    "freunde & mitschueler   # Freunde, die Mitschüler sind"
   ]
  },
  {
   "cell_type": "code",
   "execution_count": null,
   "metadata": {},
   "outputs": [],
   "source": [
    "freunde | mitschueler   # Freunde oder Mitschüler"
   ]
  },
  {
   "cell_type": "code",
   "execution_count": null,
   "metadata": {},
   "outputs": [],
   "source": [
    "freunde - mitschueler   # Freunde, die keine Mitschüler sind"
   ]
  },
  {
   "cell_type": "code",
   "execution_count": null,
   "metadata": {},
   "outputs": [],
   "source": [
    "mitschueler - freunde   # Mitschüler, mit denen ich nicht befreundet bin"
   ]
  },
  {
   "cell_type": "markdown",
   "metadata": {},
   "source": [
    "*Set comprehensions* funktionieren wie *list comprehensions*, erzeugen aber Mengen:"
   ]
  },
  {
   "cell_type": "code",
   "execution_count": null,
   "metadata": {},
   "outputs": [],
   "source": [
    "{ name for name in freunde | mitschueler if name.startswith('T') }"
   ]
  },
  {
   "cell_type": "markdown",
   "metadata": {},
   "source": [
    "Das ist sehr nahe an der mathematischen Schreibweise: $\\{n \\in f \\cup m \\; | \\; n \\; \\text{beginnt mit T} \\}$"
   ]
  }
 ],
 "metadata": {
  "kernelspec": {
   "display_name": "Python 3 (ipykernel)",
   "language": "python",
   "name": "python3"
  },
  "language_info": {
   "codemirror_mode": {
    "name": "ipython",
    "version": 3
   },
   "file_extension": ".py",
   "mimetype": "text/x-python",
   "name": "python",
   "nbconvert_exporter": "python",
   "pygments_lexer": "ipython3",
   "version": "3.9.7"
  }
 },
 "nbformat": 4,
 "nbformat_minor": 4
}
