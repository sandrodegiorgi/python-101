{
 "cells": [
  {
   "cell_type": "markdown",
   "metadata": {},
   "source": [
    "# Variablen, Operatoren und Kleinvieh    \n",
    "\n",
    "Cheats für die Bearbeitung von Markdowns finden Sie z.B. unter   \n",
    "* https://medium.com/ibm-data-science-experience/markdown-for-jupyter-notebooks-cheatsheet-386c05aeebed\n",
    "* https://towardsdatascience.com/write-markdown-latex-in-the-jupyter-notebook-10985edb91fd (hier auch Info zu $\\LaTeX$)"
   ]
  },
  {
   "cell_type": "markdown",
   "metadata": {},
   "source": [
    "## Kommentare"
   ]
  },
  {
   "cell_type": "code",
   "execution_count": null,
   "metadata": {},
   "outputs": [],
   "source": [
    "# rechts davon ist Kommentar\n",
    "\"\"\"\n",
    "ein Kommentar \n",
    "über mehrere \n",
    "Zeilen\n",
    "\"\"\"\n",
    "print(\"Hallo\", end=\"\\n\\n\")\n",
    "print(\"lalal\")# print ohne Zeilenumbruch\n",
    "#print(\"Welt\")           # print mit Zeilenumbruch end=\"\\n\" als Default-Value"
   ]
  },
  {
   "cell_type": "markdown",
   "metadata": {},
   "source": [
    "## Variablen, Typisierung\n",
    "Python legt im Gegensatz zu vielen anderen Programmiersprachen erst zur Laufzeit den Datentyp von Variablen fest.  \n",
    "Dieser kann sich auch im Laufe des Programms ändern.  \n",
    "Hierfür gibt es den Fachbegriff dynamische Typisierung (dynamic typing).  \n",
    "#### siehe  auch\n",
    "* https://www.w3schools.com/python/python_variables.asp  \n",
    "* https://www.python-kurs.eu/python3_variablen.php"
   ]
  },
  {
   "cell_type": "code",
   "execution_count": null,
   "metadata": {},
   "outputs": [],
   "source": [
    "#Variablen\n",
    "v1 = 4\n",
    "print(v1)\n",
    "print(type(v1))\n",
    "\n",
    "#Datentypen\n",
    "v2 = 2\n",
    "v3 = 3.5\n",
    "v4 = 'Jan' \n",
    "v5 = True\n",
    "v1 = v1 / v2\n",
    "\n",
    "#in Java: int / int => welcher typ? => int, in python => double\n",
    "\n",
    "#Ausgabe\n",
    "print('Datentypen im Vergleich!')\n",
    "print(v2)\n",
    "print(type(v2))\n",
    "print(v3)\n",
    "print(type(v3))\n",
    "print(v4)\n",
    "print(type(v4))\n",
    "print(v5)\n",
    "print(type(v5))\n",
    "print(v1)\n",
    "print(type(v1))\n"
   ]
  },
  {
   "cell_type": "markdown",
   "metadata": {},
   "source": [
    "## Ausdrücke und Operatoren\n",
    "In Python ist es nicht üblich eine Programmzeile mit einem Semikolon ';' zu beenden.  \n",
    "Als Zuweisungsoperator wird wie in anderen Programmiersprachen auch ein '=' verwendet.\n",
    "#### siehe  auch\n",
    "* https://www.w3schools.com/python/python_operators.asp  \n",
    "* https://www.python-kurs.eu/python3_operatoren.php"
   ]
  },
  {
   "cell_type": "code",
   "execution_count": null,
   "metadata": {},
   "outputs": [],
   "source": [
    "x = 5 / 2\n",
    "print(x)\n",
    "print(type(x))\n",
    "print(\"Rechnen wie in der Grundschule!\")\n",
    "y = 5 // 2 # Ganzahldivision # \n",
    "z = 5 % 2  # Rest ermitteln mit Modulooperator\n",
    "print('5 / 2 = ', y,'Rest',z) # Konkatenation mit \",\"\n"
   ]
  },
  {
   "cell_type": "code",
   "execution_count": null,
   "metadata": {},
   "outputs": [],
   "source": [
    "a = 3**3 # Exponent 3^2 = 9\n",
    "print('3 hoch 2 ist ', a)"
   ]
  },
  {
   "cell_type": "markdown",
   "metadata": {},
   "source": [
    "## Mathematische Funktionen\n",
    "#### siehe auch  \n",
    "* https://www.w3schools.com/python/python_math.asp  \n",
    "* https://docs.python.org/3.8/library/math.html"
   ]
  },
  {
   "cell_type": "code",
   "execution_count": null,
   "metadata": {},
   "outputs": [],
   "source": [
    "import math\n",
    "a = 3.0\n",
    "b = 4.0\n",
    "c = math.sqrt(a**2 + b**2)\n",
    "print('Wurzel aus ', a,\"^2 + \",b, \"^2 ist gleich \",c,sep='') # sep setzt den \"Trenner\" beim Einsatz der \",\"\n",
    "\n",
    "y = math.sin(45 * math.pi/180) # rechnet im Bogenmaß!\n",
    "print(\"Sinus von 45° = \",y)"
   ]
  },
  {
   "cell_type": "markdown",
   "metadata": {},
   "source": [
    "## Einlesen von der Konsole  \n",
    "Die Funktion _input()_ liefert beim Einlesen von der Konsole einen String.  \n",
    "Dieses Ergebnis kann bei Bedarf durch explizites Typecasting umgewandelt werden.  \n",
    "Für die explizite Typumwandlung stehen folgende Funktionen <b>int(), float() und str()</b> zur Verfügung. "
   ]
  },
  {
   "cell_type": "code",
   "execution_count": null,
   "metadata": {},
   "outputs": [],
   "source": [
    "# Beispiel 1\n",
    "vorname = input(\"Dein Vorname: \")   # die Funktion input() liefert beim Einlesen von der Konsole einen String\n",
    "nachname = input(\"Dein Nachname: \") # expliziter Cast immer möglich\n",
    "print(\"Hallo\",vorname,nachname)"
   ]
  },
  {
   "cell_type": "code",
   "execution_count": null,
   "metadata": {},
   "outputs": [],
   "source": [
    "# Beispiel 2\n",
    "zahl1 = int(input(\"Zahl 1: \")) # Geben Sie mal eine \"Nicht-Zahl\" ein...\n",
    "zahl2 = int(input(\"Zahl 2: \"))\n",
    "ergebnis = zahl1 + zahl2\n",
    "print(zahl1,\"+\",zahl2,\"=\",ergebnis)"
   ]
  },
  {
   "cell_type": "markdown",
   "metadata": {},
   "source": [
    "## Exception Handling\n",
    "Wie in den meisten aktuellen Programmiersprachen bietet Python ein explizites exception handling.\n",
    "#### siehe auch\n",
    "+ https://www.w3schools.com/python/python_try_except.asp\n",
    "\n",
    "Passen Sie in folgender Zelle das obige Beispiel 2 so an, dass die Eingabe einer *\"Nicht-Zahl\"* nicht zum Programmabbruch führt."
   ]
  },
  {
   "cell_type": "code",
   "execution_count": null,
   "metadata": {},
   "outputs": [],
   "source": [
    "# Lösung\n"
   ]
  },
  {
   "cell_type": "markdown",
   "metadata": {},
   "source": [
    "## String-Interpolation mit f-Strings\n",
    "Häufig sollen in Programmen Variablenwerte in Strings eingefügt werden. Dazu gibt es historisch in Python (wie in den meisten anderen Programmiersprachen) verschiedene Möglichkeiten. Seit Python 3.6 ist die bevorzugte Variante die Verwendung von [f-Strings](https://www.codeflow.site/de/article/python-f-strings#_f_strings_eine_neue_und_verbesserte_methode_zum_formatieren_von_strings_in_python) (kurz für: Format-Strings).\n",
    "\n",
    "- f-Strings erkennt man am vorangestellten Buchstaben f, z.B.: `f\"Hallo {name}\"`\n",
    "- im f-String werden Ausdrücke innerhalb von geschweiften Klammern zur Laufzeit ausgewertet und durch ihren Wert ersetzt\n",
    "- d.h. Variablennamen werden durch den Wert der Variable ersetzt\n",
    "- Terme durch ihren berechneten Wert\n",
    "- Funktionsaufrufe durch deren Return-Wert\n",
    "- usw."
   ]
  },
  {
   "cell_type": "code",
   "execution_count": null,
   "metadata": {},
   "outputs": [],
   "source": [
    "name = \"Ralf\"\n",
    "alter = 42\n",
    "print(f\"Ich heiße {name} und bin {alter} Jahre alt.\") # Platzierung \"in_place\"\n",
    "print(f\"In Hundejahren wären das {alter*7} Jahre.\")"
   ]
  },
  {
   "cell_type": "markdown",
   "metadata": {},
   "source": [
    "## Übung 1  \n",
    "Lesen Sie von der Konsole eine beliebige Anzahl von Sekunden ein.  \n",
    "Diese soll in Stunden, Minuten und Sekunden umgerechnet werden."
   ]
  },
  {
   "cell_type": "code",
   "execution_count": null,
   "metadata": {},
   "outputs": [],
   "source": []
  },
  {
   "cell_type": "markdown",
   "metadata": {},
   "source": [
    "## Übung 2\n",
    "Lesen Sie von der Konsole den Radius r eines Kreises ein.\n",
    "Berechnen Sie Kreisfläche und Kreisumfang"
   ]
  },
  {
   "cell_type": "code",
   "execution_count": null,
   "metadata": {},
   "outputs": [],
   "source": []
  }
 ],
 "metadata": {
  "kernelspec": {
   "display_name": "Python 3 (ipykernel)",
   "language": "python",
   "name": "python3"
  },
  "language_info": {
   "codemirror_mode": {
    "name": "ipython",
    "version": 3
   },
   "file_extension": ".py",
   "mimetype": "text/x-python",
   "name": "python",
   "nbconvert_exporter": "python",
   "pygments_lexer": "ipython3",
   "version": "3.9.7"
  }
 },
 "nbformat": 4,
 "nbformat_minor": 4
}
